{
 "cells": [
  {
   "cell_type": "code",
   "execution_count": 1,
   "metadata": {
    "collapsed": true,
    "run_control": {
     "frozen": false,
     "read_only": false
    }
   },
   "outputs": [],
   "source": [
    "import json\n",
    "import pprint\n",
    "pp = pprint.PrettyPrinter(2, depth=6)"
   ]
  },
  {
   "cell_type": "code",
   "execution_count": 2,
   "metadata": {
    "collapsed": true,
    "run_control": {
     "frozen": false,
     "read_only": false
    }
   },
   "outputs": [],
   "source": [
    "from wikitables import import_tables"
   ]
  },
  {
   "cell_type": "code",
   "execution_count": 3,
   "metadata": {
    "collapsed": true,
    "run_control": {
     "frozen": false,
     "read_only": false
    }
   },
   "outputs": [],
   "source": [
    "tables = import_tables('List of cities in Italy') #returns a list of WikiTable objects"
   ]
  },
  {
   "cell_type": "code",
   "execution_count": 4,
   "metadata": {
    "collapsed": true,
    "run_control": {
     "frozen": false,
     "read_only": false
    }
   },
   "outputs": [],
   "source": [
    "test_table = tables[0]"
   ]
  },
  {
   "cell_type": "code",
   "execution_count": 17,
   "metadata": {
    "run_control": {
     "frozen": false,
     "read_only": false
    }
   },
   "outputs": [
    {
     "data": {
      "text/plain": [
       "['City', 'PopulationJanuary 1, 2014', 'Area(km2)', 'Density(inh./km2)']"
      ]
     },
     "execution_count": 17,
     "metadata": {},
     "output_type": "execute_result"
    }
   ],
   "source": [
    "test_table.head"
   ]
  },
  {
   "cell_type": "code",
   "execution_count": 8,
   "metadata": {
    "run_control": {
     "frozen": false,
     "read_only": false
    },
    "scrolled": false
   },
   "outputs": [
    {
     "name": "stdout",
     "output_type": "stream",
     "text": [
      "[ { 'Area(km2)': '4,450.11',\n",
      "    'City': 'Milan',\n",
      "    'Density(inh./km2)': '1,488',\n",
      "    'PopulationJanuary 1, 2014': '5,623,798'},\n",
      "  { 'Area(km2)': '3,116.52',\n",
      "    'City': 'Naples',\n",
      "    'Density(inh./km2)': '1,699',\n",
      "    'PopulationJanuary 1, 2014': '5,294,546'},\n",
      "  { 'Area(km2)': '3,340.41',\n",
      "    'City': 'Rome',\n",
      "    'Density(inh./km2)': '1,332',\n",
      "    'PopulationJanuary 1, 2014': '4,447,881'},\n",
      "  { 'Area(km2)': '1,328.40',\n",
      "    'City': 'Turin',\n",
      "    'Density(inh./km2)': '1,404',\n",
      "    'PopulationJanuary 1, 2014': '1,865,284'},\n",
      "  { 'Area(km2)': '2,063.44',\n",
      "    'City': 'Venice - Padua',\n",
      "    'Density(inh./km2)': '768',\n",
      "    'PopulationJanuary 1, 2014': '1,645,900'},\n",
      "  { 'Area(km2)': '2,124.22',\n",
      "    'City': 'Florence',\n",
      "    'Density(inh./km2)': '699',\n",
      "    'PopulationJanuary 1, 2014': '1,485,030'},\n",
      "  { 'Area(km2)': '2,194.62',\n",
      "    'City': 'Bari',\n",
      "    'Density(inh./km2)': '573',\n",
      "    'PopulationJanuary 1, 2014': '1,257,459'},\n",
      "  { 'Area(km2)': '1,237.26',\n",
      "    'City': 'Palermo',\n",
      "    'Density(inh./km2)': '956',\n",
      "    'PopulationJanuary 1, 2014': '1,183,084'},\n",
      "  { 'Area(km2)': '1,034.18',\n",
      "    'City': 'Bologna',\n",
      "    'Density(inh./km2)': '670',\n",
      "    'PopulationJanuary 1, 2014': '1,050,000'},\n",
      "  { 'Area(km2)': '771.32',\n",
      "    'City': 'Catania',\n",
      "    'Density(inh./km2)': '1,281',\n",
      "    'PopulationJanuary 1, 2014': '988,240'},\n",
      "  { 'Area(km2)': '1,287.18',\n",
      "    'City': 'Brescia',\n",
      "    'Density(inh./km2)': '718',\n",
      "    'PopulationJanuary 1, 2014': '924,090'},\n",
      "  { 'Area(km2)': '721.81',\n",
      "    'City': 'Genoa',\n",
      "    'Density(inh./km2)': '1,193',\n",
      "    'PopulationJanuary 1, 2014': '861,318'},\n",
      "  { 'Area(km2)': '1,405.42',\n",
      "    'City': 'Messina - Reggio Calabria',\n",
      "    'Density(inh./km2)': '590',\n",
      "    'PopulationJanuary 1, 2014': '828,507'},\n",
      "  { 'Area(km2)': '927.20',\n",
      "    'City': 'Rimini',\n",
      "    'Density(inh./km2)': '807',\n",
      "    'PopulationJanuary 1, 2014': '748,352'},\n",
      "  { 'Area(km2)': '964.48',\n",
      "    'City': 'Modena',\n",
      "    'Density(inh./km2)': '611',\n",
      "    'PopulationJanuary 1, 2014': '588,998'},\n",
      "  { 'Area(km2)': '862.26',\n",
      "    'City': 'Verona',\n",
      "    'Density(inh./km2)': '676',\n",
      "    'PopulationJanuary 1, 2014': '583,069'},\n",
      "  { 'Area(km2)': '1,079.84',\n",
      "    'City': 'Pisa - Livorno',\n",
      "    'Density(inh./km2)': '529',\n",
      "    'PopulationJanuary 1, 2014': '571,559'},\n",
      "  { 'Area(km2)': '979.88',\n",
      "    'City': 'Pescara',\n",
      "    'Density(inh./km2)': '540',\n",
      "    'PopulationJanuary 1, 2014': '529,070'},\n",
      "  { 'Area(km2)': '696.73',\n",
      "    'City': 'Versilia',\n",
      "    'Density(inh./km2)': '749',\n",
      "    'PopulationJanuary 1, 2014': '522,092'},\n",
      "  { 'Area(km2)': '691.38',\n",
      "    'City': 'Vicenza',\n",
      "    'Density(inh./km2)': '695',\n",
      "    'PopulationJanuary 1, 2014': '480,392'},\n",
      "  { 'Area(km2)': '895.28',\n",
      "    'City': 'Cagliari',\n",
      "    'Density(inh./km2)': '506',\n",
      "    'PopulationJanuary 1, 2014': '452,816'},\n",
      "  { 'Area(km2)': '1,000.65',\n",
      "    'City': 'Taranto',\n",
      "    'Density(inh./km2)': '439',\n",
      "    'PopulationJanuary 1, 2014': '439,730'},\n",
      "  { 'Area(km2)': '572.58',\n",
      "    'City': 'Trieste',\n",
      "    'Density(inh./km2)': '716',\n",
      "    'PopulationJanuary 1, 2014': '409,905'},\n",
      "  { 'Area(km2)': '854.48',\n",
      "    'City': 'Ancona',\n",
      "    'Density(inh./km2)': '478',\n",
      "    'PopulationJanuary 1, 2014': '408,358'},\n",
      "  { 'Area(km2)': '1,135.07',\n",
      "    'City': 'Perugia',\n",
      "    'Density(inh./km2)': '307',\n",
      "    'PopulationJanuary 1, 2014': '348,952'},\n",
      "  { 'Area(km2)': '768.65',\n",
      "    'City': 'Lecce',\n",
      "    'Density(inh./km2)': '449',\n",
      "    'PopulationJanuary 1, 2014': '345,476'},\n",
      "  { 'Area(km2)': '658.75',\n",
      "    'City': \"Reggio nell'Emilia\",\n",
      "    'Density(inh./km2)': '467',\n",
      "    'PopulationJanuary 1, 2014': '307,817'},\n",
      "  { 'Area(km2)': '682.46',\n",
      "    'City': 'Parma',\n",
      "    'Density(inh./km2)': '448',\n",
      "    'PopulationJanuary 1, 2014': '305,826'}]\n"
     ]
    }
   ],
   "source": [
    "pp.pprint(json.loads(test_table.json()))"
   ]
  },
  {
   "cell_type": "code",
   "execution_count": null,
   "metadata": {
    "collapsed": true,
    "run_control": {
     "frozen": false,
     "read_only": false
    }
   },
   "outputs": [],
   "source": []
  },
  {
   "cell_type": "code",
   "execution_count": null,
   "metadata": {
    "collapsed": true,
    "run_control": {
     "frozen": false,
     "read_only": false
    }
   },
   "outputs": [],
   "source": []
  },
  {
   "cell_type": "code",
   "execution_count": null,
   "metadata": {
    "collapsed": true,
    "run_control": {
     "frozen": false,
     "read_only": false
    }
   },
   "outputs": [],
   "source": []
  },
  {
   "cell_type": "code",
   "execution_count": null,
   "metadata": {
    "collapsed": true,
    "run_control": {
     "frozen": false,
     "read_only": false
    }
   },
   "outputs": [],
   "source": []
  },
  {
   "cell_type": "code",
   "execution_count": null,
   "metadata": {
    "collapsed": true,
    "run_control": {
     "frozen": false,
     "read_only": false
    }
   },
   "outputs": [],
   "source": []
  },
  {
   "cell_type": "code",
   "execution_count": null,
   "metadata": {
    "collapsed": true,
    "run_control": {
     "frozen": false,
     "read_only": false
    }
   },
   "outputs": [],
   "source": []
  },
  {
   "cell_type": "code",
   "execution_count": null,
   "metadata": {
    "collapsed": true,
    "run_control": {
     "frozen": false,
     "read_only": false
    }
   },
   "outputs": [],
   "source": []
  }
 ],
 "metadata": {
  "kernelspec": {
   "display_name": "Python 3",
   "language": "python",
   "name": "python3"
  },
  "language_info": {
   "codemirror_mode": {
    "name": "ipython",
    "version": 3
   },
   "file_extension": ".py",
   "mimetype": "text/x-python",
   "name": "python",
   "nbconvert_exporter": "python",
   "pygments_lexer": "ipython3",
   "version": "3.6.1"
  }
 },
 "nbformat": 4,
 "nbformat_minor": 2
}
