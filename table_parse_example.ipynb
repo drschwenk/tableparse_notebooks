{
 "cells": [
  {
   "cell_type": "code",
   "execution_count": 1,
   "metadata": {
    "run_control": {
     "frozen": false,
     "read_only": false
    }
   },
   "outputs": [],
   "source": [
    "## import json\n",
    "import requests\n",
    "import base64\n",
    "import PIL.Image as Image\n",
    "import cv2"
   ]
  },
  {
   "cell_type": "markdown",
   "metadata": {},
   "source": [
    "# Early OCR service experiment"
   ]
  },
  {
   "cell_type": "markdown",
   "metadata": {},
   "source": [
    "This notebook compares contains early tests of the tableparse service"
   ]
  },
  {
   "cell_type": "code",
   "execution_count": 2,
   "metadata": {
    "code_folding": [],
    "run_control": {
     "frozen": false,
     "read_only": false
    }
   },
   "outputs": [],
   "source": [
    "api_entry_point = 'http://vision-tableparse.dev.allenai.org/v1/tableparse'\n",
    "api_entry_point_local = 'http://0.0.0.0:8200/v1/tableparse'\n",
    "header = {'Content-Type': 'application/json'}\n",
    "\n",
    "def vision_tp_service(image, rq_attr):\n",
    "    request_data = {\n",
    "        rq_attr: image,\n",
    "    }\n",
    "    json_data = json.dumps(request_data)\n",
    "    response = requests.post(api_entry_point, data=json_data, headers=header)\n",
    "    json_response = json.loads(response.content.decode())\n",
    "    if json_response:\n",
    "        response = json_response\n",
    "    return response\n",
    "\n",
    "def draw_detections(img_path, tp_response, direction='rows'):\n",
    "    colors = [\n",
    "        (255, 0, 0),\n",
    "        (0, 255, 0),\n",
    "        (0, 0, 255),\n",
    "        (255, 255, 0),\n",
    "        (0, 255, 255),\n",
    "        (255, 0, 255),\n",
    "\n",
    "        (128, 0, 0),\n",
    "        (0, 128, 0),\n",
    "        (0, 0, 128),\n",
    "        (128, 128, 0),\n",
    "        (0, 128, 128),\n",
    "        (128, 0, 128),\n",
    "\n",
    "        (255, 128, 0),\n",
    "        (0, 128, 255),\n",
    "        (128, 255, 0),\n",
    "        (0, 255, 128),\n",
    "        (255, 0, 128),\n",
    "        (128, 0, 255)]\n",
    "    \n",
    "    image = cv2.imread(img_path)\n",
    "    color_counter = 0\n",
    "    for row in tp_response[direction]:\n",
    "        color = colors[color_counter]\n",
    "        for cell in row:\n",
    "            start_x = cell['rectangle'][0]['x']\n",
    "            start_y = cell['rectangle'][0]['y']\n",
    "            end_x = cell['rectangle'][1]['x']\n",
    "            end_y = cell['rectangle'][1]['y']\n",
    "            cv2.rectangle(image, (start_x + 12, start_y + 1), (end_x - 1, end_y - 1), color=color, thickness=2)\n",
    "        color_counter += 1\n",
    "    return Image.fromarray(image)"
   ]
  },
  {
   "cell_type": "code",
   "execution_count": 3,
   "metadata": {
    "run_control": {
     "frozen": false,
     "read_only": false
    }
   },
   "outputs": [
    {
     "data": {
      "image/png": "[encoded data removed]",
      "text/plain": [
       "<PIL.PngImagePlugin.PngImageFile image mode=RGBA size=347x285 at 0x10D0D9D90>"
      ]
     },
     "execution_count": 3,
     "metadata": {},
     "output_type": "execute_result"
    }
   ],
   "source": [
    "# set image path here\n",
    "example_image_path = '/Users/schwenk/wrk/tableparse/vision-tableparse/examples/sight-word-bingo.png'\n",
    "example_image_url = ''\n",
    "b64_image = base64.b64encode(open(example_image_path, 'rb').read())\n",
    "\n",
    "image_for_display = Image.open(example_image_path)\n",
    "image_for_display"
   ]
  },
  {
   "cell_type": "markdown",
   "metadata": {},
   "source": [
    "The service can take a url or b64 encoded image in a POST request\n",
    "\n",
    "specify __'image' for b64encoded string__\n",
    "\n",
    "or __'url' for url pointing to an image__"
   ]
  },
  {
   "cell_type": "code",
   "execution_count": 4,
   "metadata": {
    "run_control": {
     "frozen": false,
     "read_only": false
    }
   },
   "outputs": [],
   "source": [
    "tp_response = vision_tp_service(b64_image, 'image')"
   ]
  },
  {
   "cell_type": "markdown",
   "metadata": {},
   "source": [
    "service returns a dict of rows and columns, each as a list of cells"
   ]
  },
  {
   "cell_type": "code",
   "execution_count": 5,
   "metadata": {
    "run_control": {
     "frozen": false,
     "read_only": false
    }
   },
   "outputs": [
    {
     "data": {
      "text/plain": [
       "[{u'rectangle': [{u'x': 3, u'y': 3}, {u'x': 69, u'y': 47}], u'value': u'B'},\n",
       " {u'rectangle': [{u'x': 3, u'y': 50}, {u'x': 69, u'y': 94}],\n",
       "  u'value': u'then'},\n",
       " {u'rectangle': [{u'x': 3, u'y': 97}, {u'x': 69, u'y': 141}],\n",
       "  u'value': u'put'},\n",
       " {u'rectangle': [{u'x': 3, u'y': 144}, {u'x': 69, u'y': 188}],\n",
       "  u'value': u'him'},\n",
       " {u'rectangle': [{u'x': 3, u'y': 191}, {u'x': 69, u'y': 234}],\n",
       "  u'value': u'round'},\n",
       " {u'rectangle': [{u'x': 3, u'y': 237}, {u'x': 69, u'y': 281}],\n",
       "  u'value': u'Were'}]"
      ]
     },
     "execution_count": 5,
     "metadata": {},
     "output_type": "execute_result"
    }
   ],
   "source": [
    "tp_response['columns'][0]"
   ]
  },
  {
   "cell_type": "code",
   "execution_count": 6,
   "metadata": {
    "run_control": {
     "frozen": false,
     "read_only": false
    }
   },
   "outputs": [
    {
     "data": {
      "text/plain": [
       "[{u'rectangle': [{u'x': 3, u'y': 3}, {u'x': 69, u'y': 47}], u'value': u'B'},\n",
       " {u'rectangle': [{u'x': 72, u'y': 3}, {u'x': 137, u'y': 47}], u'value': u''},\n",
       " {u'rectangle': [{u'x': 140, u'y': 3}, {u'x': 205, u'y': 47}], u'value': u'N'},\n",
       " {u'rectangle': [{u'x': 208, u'y': 3}, {u'x': 274, u'y': 47}], u'value': u'G'},\n",
       " {u'rectangle': [{u'x': 277, u'y': 3}, {u'x': 343, u'y': 47}], u'value': u'O'}]"
      ]
     },
     "execution_count": 6,
     "metadata": {},
     "output_type": "execute_result"
    }
   ],
   "source": [
    "tp_response['rows'][0]"
   ]
  },
  {
   "cell_type": "code",
   "execution_count": 7,
   "metadata": {
    "run_control": {
     "frozen": false,
     "read_only": false
    }
   },
   "outputs": [
    {
     "data": {
      "image/png": "[encoded data removed]",
      "text/plain": [
       "<PIL.Image.Image image mode=RGB size=347x285 at 0x10D077550>"
      ]
     },
     "execution_count": 7,
     "metadata": {},
     "output_type": "execute_result"
    }
   ],
   "source": [
    "draw_detections(example_image_path, tp_response, 'columns') # could also pass 'rows' here"
   ]
  },
  {
   "cell_type": "code",
   "execution_count": 13,
   "metadata": {
    "run_control": {
     "frozen": false,
     "read_only": false
    }
   },
   "outputs": [],
   "source": [
    "def make_cells(rows, cols, boxes):\n",
    "    cells = [[[] for x in range(len(cols))] for y in range(len(rows))]\n",
    "    for i,box in enumerate(boxes):\n",
    "        sorted_rows = sorted(indices[i]['rows'])\n",
    "        sorted_cols = sorted(indices[i]['cols'])\n",
    "        for k,row_idx in enumerate(sorted_rows):\n",
    "            for j,col_idx in enumerate(sorted_cols):\n",
    "                if k == 0 and j == 0:\n",
    "                    contents = {'type': 'cell', 'contents': box}\n",
    "                else:\n",
    "                    contents = {'type': 'span', 'main_row': sorted_rows[0], 'main_col': sorted_cols[0]}\n",
    "\n",
    "                cells[row_idx][col_idx].append(contents)\n",
    "\n",
    "    out_arr = [['' for x in range(len(cols))] for y in range(len(rows))]\n",
    "\n",
    "    for row_idx, row in enumerate(cells):\n",
    "        for col_idx, cell in enumerate(row):\n",
    "            overall = []\n",
    "            for cell_info in cell:\n",
    "                if 'type' not in cell_info:\n",
    "                    cell_info = {'type': 'unspecified'}\n",
    "\n",
    "                if cell_info['type'] == 'cell':\n",
    "                    contents = ' '.join(cell_info['contents'][4])\n",
    "                elif cell_info['type'] == 'span':\n",
    "                    # This can later be a special structure for the json\n",
    "                    # including for the main cell, too\n",
    "                    contents = 'SPAN_OF(' + str(cell_info['main_row']) + ', ' + str(cell_info['main_col']) + ')'\n",
    "                else:\n",
    "                    contents = ''\n",
    "                overall.append(contents)\n",
    "            display_contents = ' '.join(overall)\n",
    "            out_arr[row_idx][col_idx] = display_contents\n",
    "    return {'cells': out_arr}\n",
    "#     with open(json_path, 'w') as f:\n",
    "#         json.dump({'cells': out_arr}, f)"
   ]
  },
  {
   "cell_type": "code",
   "execution_count": null,
   "metadata": {
    "collapsed": true,
    "run_control": {
     "frozen": false,
     "read_only": false
    }
   },
   "outputs": [],
   "source": []
  }
 ],
 "metadata": {
  "kernelspec": {
   "display_name": "venv",
   "language": "python",
   "name": "venv"
  },
  "language_info": {
   "codemirror_mode": {
    "name": "ipython",
    "version": 3
   },
   "file_extension": ".py",
   "mimetype": "text/x-python",
   "name": "python",
   "nbconvert_exporter": "python",
   "pygments_lexer": "ipython3",
   "version": "3.6.1"
  }
 },
 "nbformat": 4,
 "nbformat_minor": 1
}
