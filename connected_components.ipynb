{
 "cells": [
  {
   "cell_type": "markdown",
   "metadata": {},
   "source": [
    "# Table of Contents\n",
    "* [Introduction](#Introduction)\n",
    "\t* [Guiding questions](#Guiding-questions)\n",
    "\t* [Related notebooks](#Related-notebooks)\n",
    "* [Setup](#Setup)\n",
    "\t* [Imports](#Imports)\n",
    "\t* [Load data](#Load-data)\n",
    "* [Analysis](#Analysis)\n",
    "* [Conclusions](#Conclusions)\n",
    "\t* [Key findings](#Key-findings)\n",
    "\t* [Next steps](#Next-steps)\n"
   ]
  },
  {
   "cell_type": "markdown",
   "metadata": {},
   "source": [
    "# Introduction"
   ]
  },
  {
   "cell_type": "markdown",
   "metadata": {},
   "source": [
    "**Prior work/ previous next steps**\n",
    "\n",
    "table_parse_early_tests.ipynb"
   ]
  },
  {
   "cell_type": "markdown",
   "metadata": {},
   "source": [
    "## Guiding questions"
   ]
  },
  {
   "cell_type": "markdown",
   "metadata": {},
   "source": [
    "* Guiding question 1\n",
    "* Guiding question 2"
   ]
  },
  {
   "cell_type": "markdown",
   "metadata": {},
   "source": [
    "## Related notebooks"
   ]
  },
  {
   "cell_type": "markdown",
   "metadata": {},
   "source": [
    "* **Copied from:** N/A\n",
    "* **Purpose of copy:** N/A \n",
    "* **Copied to:** N/A\n",
    "* **Purpose of copy:** N/A\n",
    "* **Related notebooks:** N/A"
   ]
  },
  {
   "cell_type": "markdown",
   "metadata": {},
   "source": [
    "<div class=\"alert alert-info\"> Use this box for important points, reminders</div>"
   ]
  },
  {
   "cell_type": "markdown",
   "metadata": {
    "slideshow": {
     "slide_type": "-"
    }
   },
   "source": [
    "# Setup"
   ]
  },
  {
   "cell_type": "markdown",
   "metadata": {},
   "source": [
    "## Imports"
   ]
  },
  {
   "cell_type": "code",
   "execution_count": 1,
   "metadata": {
    "collapsed": true,
    "run_control": {
     "frozen": false,
     "read_only": false
    }
   },
   "outputs": [],
   "source": [
    "%%capture\n",
    "from __future__ import division\n",
    "import numpy as np\n",
    "import pandas as pd\n",
    "import scipy.stats as st\n",
    "import itertools\n",
    "import math\n",
    "import hashlib\n",
    "from collections import Counter, defaultdict\n",
    "%load_ext autoreload\n",
    "%autoreload 2"
   ]
  },
  {
   "cell_type": "code",
   "execution_count": 2,
   "metadata": {
    "collapsed": true,
    "run_control": {
     "frozen": false,
     "read_only": false
    }
   },
   "outputs": [],
   "source": [
    "%%capture\n",
    "import matplotlib as mpl\n",
    "import matplotlib.pylab as plt\n",
    "%matplotlib inline\n",
    "%load_ext base16_mplrc\n",
    "%base16_mplrc light solarized\n",
    "plt.rcParams['grid.linewidth'] = 0\n",
    "plt.rcParams['figure.figsize'] = (16.0, 10.0)"
   ]
  },
  {
   "cell_type": "code",
   "execution_count": 19,
   "metadata": {
    "run_control": {
     "frozen": false,
     "read_only": false
    }
   },
   "outputs": [],
   "source": [
    "import os\n",
    "import cv2\n",
    "\n",
    "import PIL.Image as Image\n",
    "from skimage import filters\n",
    "from skimage import measure\n",
    "\n",
    "from urllib.request import url2pathname"
   ]
  },
  {
   "cell_type": "code",
   "execution_count": 20,
   "metadata": {
    "ExecuteTime": {
     "end_time": "2016-07-19T17:16:45.420136",
     "start_time": "2016-07-19T17:16:45.404054"
    },
    "run_control": {
     "frozen": false,
     "read_only": false
    }
   },
   "outputs": [
    {
     "name": "stdout",
     "output_type": "stream",
     "text": [
      "The version_information extension is already loaded. To reload it, use:\n",
      "  %reload_ext version_information\n"
     ]
    },
    {
     "data": {
      "application/json": {
       "Software versions": [
        {
         "module": "Python",
         "version": "3.6.1 64bit [GCC 4.2.1 Compatible Apple LLVM 8.0.0 (clang-800.0.42.1)]"
        },
        {
         "module": "IPython",
         "version": "6.0.0"
        },
        {
         "module": "OS",
         "version": "Darwin 16.6.0 x86_64 i386 64bit"
        },
        {
         "module": "numpy",
         "version": "1.12.1"
        },
        {
         "module": "matplotlib",
         "version": "2.0.2"
        },
        {
         "module": "pandas",
         "version": "0.20.1"
        },
        {
         "module": "scipy",
         "version": "0.19.0"
        },
        {
         "module": "cv2",
         "version": "3.2.0"
        },
        {
         "module": "skimage",
         "version": "0.13.0"
        },
        {
         "module": "PIL",
         "version": "4.1.1"
        }
       ]
      },
      "text/html": [
       "<table><tr><th>Software</th><th>Version</th></tr><tr><td>Python</td><td>3.6.1 64bit [GCC 4.2.1 Compatible Apple LLVM 8.0.0 (clang-800.0.42.1)]</td></tr><tr><td>IPython</td><td>6.0.0</td></tr><tr><td>OS</td><td>Darwin 16.6.0 x86_64 i386 64bit</td></tr><tr><td>numpy</td><td>1.12.1</td></tr><tr><td>matplotlib</td><td>2.0.2</td></tr><tr><td>pandas</td><td>0.20.1</td></tr><tr><td>scipy</td><td>0.19.0</td></tr><tr><td>cv2</td><td>3.2.0</td></tr><tr><td>skimage</td><td>0.13.0</td></tr><tr><td>PIL</td><td>4.1.1</td></tr><tr><td colspan='2'>Fri Jun 02 14:44:17 2017 PDT</td></tr></table>"
      ],
      "text/latex": [
       "\\begin{tabular}{|l|l|}\\hline\n",
       "{\\bf Software} & {\\bf Version} \\\\ \\hline\\hline\n",
       "Python & 3.6.1 64bit [GCC 4.2.1 Compatible Apple LLVM 8.0.0 (clang-800.0.42.1)] \\\\ \\hline\n",
       "IPython & 6.0.0 \\\\ \\hline\n",
       "OS & Darwin 16.6.0 x86\\_64 i386 64bit \\\\ \\hline\n",
       "numpy & 1.12.1 \\\\ \\hline\n",
       "matplotlib & 2.0.2 \\\\ \\hline\n",
       "pandas & 0.20.1 \\\\ \\hline\n",
       "scipy & 0.19.0 \\\\ \\hline\n",
       "cv2 & 3.2.0 \\\\ \\hline\n",
       "skimage & 0.13.0 \\\\ \\hline\n",
       "PIL & 4.1.1 \\\\ \\hline\n",
       "\\hline \\multicolumn{2}{|l|}{Fri Jun 02 14:44:17 2017 PDT} \\\\ \\hline\n",
       "\\end{tabular}\n"
      ],
      "text/plain": [
       "Software versions\n",
       "Python 3.6.1 64bit [GCC 4.2.1 Compatible Apple LLVM 8.0.0 (clang-800.0.42.1)]\n",
       "IPython 6.0.0\n",
       "OS Darwin 16.6.0 x86_64 i386 64bit\n",
       "numpy 1.12.1\n",
       "matplotlib 2.0.2\n",
       "pandas 0.20.1\n",
       "scipy 0.19.0\n",
       "cv2 3.2.0\n",
       "skimage 0.13.0\n",
       "PIL 4.1.1\n",
       "Fri Jun 02 14:44:17 2017 PDT"
      ]
     },
     "execution_count": 20,
     "metadata": {},
     "output_type": "execute_result"
    }
   ],
   "source": [
    "%load_ext version_information\n",
    "%reload_ext version_information\n",
    "%version_information numpy, matplotlib, pandas, scipy, cv2, skimage, PIL"
   ]
  },
  {
   "cell_type": "markdown",
   "metadata": {},
   "source": [
    "## Load data "
   ]
  },
  {
   "cell_type": "markdown",
   "metadata": {},
   "source": [
    "* **File:** \n",
    "* **Description of data:**\n",
    "* ** compute and store hashes to verify the expected version of dataset is being used**"
   ]
  },
  {
   "cell_type": "markdown",
   "metadata": {
    "heading_collapsed": true
   },
   "source": [
    "## code"
   ]
  },
  {
   "cell_type": "code",
   "execution_count": 5,
   "metadata": {
    "collapsed": true,
    "hidden": true,
    "run_control": {
     "frozen": false,
     "read_only": false
    }
   },
   "outputs": [],
   "source": [
    "def compute_data_hash(data_path):\n",
    "    with open(data_path, 'rb') as f:\n",
    "        md5_hash = hashlib.md5(f.read()).hexdigest()\n",
    "        print(data_path, md5_hash)\n",
    "    return md5_hash\n",
    "\n",
    "def compute_and_write_hashes(data_files, json_filename):\n",
    "    data_hashes = {dfp: compute_data_hash(dfp) for dfp in data_files}\n",
    "    output_dir = 'data_hashes'\n",
    "    try:\n",
    "        os.mkdir(output_dir)\n",
    "    except FileExistsError:\n",
    "        pass\n",
    "    \n",
    "    with open(os.path.join(output_dir, json_filename), 'w') as f:\n",
    "        json.dump(data_hashes, f)"
   ]
  },
  {
   "cell_type": "code",
   "execution_count": 9,
   "metadata": {
    "collapsed": true,
    "hidden": true,
    "run_control": {
     "frozen": false,
     "read_only": false
    }
   },
   "outputs": [],
   "source": [
    "data_root_path = ''\n",
    "data_file_1 = ''\n",
    "data_path_1 = os.path.join(data_root_path, data_file_1)\n",
    "\n",
    "data_file_paths = [data_path_1, ]"
   ]
  },
  {
   "cell_type": "code",
   "execution_count": 13,
   "metadata": {
    "collapsed": true,
    "hidden": true
   },
   "outputs": [],
   "source": [
    "hard_image = '/Users/schwenk/wrk/tableparse/data/tricky_tables/unnamed-3.png'\n",
    "another_image = '/Users/schwenk/wrk/tableparse/data/tricky_tables/unnamed-2.png'\n",
    "easy_image = '/Users/schwenk/wrk/tableparse/vision-tableparse/examples/example_1.png'"
   ]
  },
  {
   "cell_type": "code",
   "execution_count": null,
   "metadata": {
    "collapsed": true,
    "hidden": true,
    "run_control": {
     "frozen": false,
     "read_only": false
    }
   },
   "outputs": [],
   "source": [
    "%%javascript\n",
    "var kernel = IPython.notebook.kernel;\n",
    "var window_name = window.location.href;\n",
    "var command = \"notebook_url = \\\"\" + escape(window_name) + \"\\\"\"\n",
    "kernel.execute(command);"
   ]
  },
  {
   "cell_type": "code",
   "execution_count": 12,
   "metadata": {
    "collapsed": true,
    "hidden": true,
    "run_control": {
     "frozen": false,
     "read_only": false
    }
   },
   "outputs": [],
   "source": [
    "nb_filename = url2pathname(notebook_url).split('/')[-1]\n",
    "if nb_filename.endswith('#'):\n",
    "    nb_filename = nb_filename[:-1]\n",
    "json_filename = nb_filename.replace('ipynb', 'json')\n",
    "\n",
    "compute_and_write_hashes(data_file_paths, json_filename)\n",
    "print('on date:')\n",
    "!date"
   ]
  },
  {
   "cell_type": "markdown",
   "metadata": {},
   "source": [
    "# Analysis"
   ]
  },
  {
   "cell_type": "code",
   "execution_count": 29,
   "metadata": {
    "run_control": {
     "frozen": false,
     "read_only": false
    }
   },
   "outputs": [],
   "source": [
    "img = cv2.imread(another_image)\n",
    "gray = cv2.cvtColor(img, cv2.COLOR_BGR2GRAY)\n",
    "\n",
    "val = filters.threshold_otsu(gray)\n",
    "mask = gray < 250\n",
    "convert_mask =  mask * np.ones_like(mask) * 255"
   ]
  },
  {
   "cell_type": "code",
   "execution_count": 30,
   "metadata": {},
   "outputs": [
    {
     "data": {
      "image/png": "[encoded data removed]",
      "text/plain": [
       "<PIL.Image.Image image mode=RGB size=742x381 at 0x118C97C18>"
      ]
     },
     "execution_count": 30,
     "metadata": {},
     "output_type": "execute_result"
    }
   ],
   "source": [
    "Image.fromarray(convert_mask.astype(np.uint8)).convert('RGB')"
   ]
  },
  {
   "cell_type": "code",
   "execution_count": 31,
   "metadata": {
    "collapsed": true
   },
   "outputs": [],
   "source": [
    "%%capture\n",
    "n = 100\n",
    "l = 256\n",
    "im = filters.gaussian_filter(convert_mask, sigma=l / (4. * n))\n",
    "# im = filters.median(convert_mask)\n",
    "\n",
    "blobs = im > im.mean()\n",
    "all_labels = measure.label(blobs)\n",
    "blobs_labels = measure.label(blobs, background=0)"
   ]
  },
  {
   "cell_type": "code",
   "execution_count": 36,
   "metadata": {},
   "outputs": [
    {
     "data": {
      "image/png": "[encoded data removed]",
      "text/plain": [
       "<matplotlib.figure.Figure at 0x1193615f8>"
      ]
     },
     "metadata": {},
     "output_type": "display_data"
    }
   ],
   "source": [
    "plt.imshow(blobs_labels, cmap='nipy_spectral')\n",
    "_ = plt.axis('off')"
   ]
  },
  {
   "cell_type": "code",
   "execution_count": 37,
   "metadata": {
    "collapsed": true
   },
   "outputs": [],
   "source": [
    "cc = blobs_labels == 1\n",
    "# cc = blobs_labels == 1\n",
    "convert_mask =  cc * np.ones_like(cc) * 255\n",
    "mimage = Image.fromarray(convert_mask.astype(np.uint8))"
   ]
  },
  {
   "cell_type": "code",
   "execution_count": 38,
   "metadata": {},
   "outputs": [
    {
     "data": {
      "image/png": "[encoded data removed]",
      "text/plain": [
       "<PIL.Image.Image image mode=RGB size=742x381 at 0x114C44BA8>"
      ]
     },
     "execution_count": 38,
     "metadata": {},
     "output_type": "execute_result"
    }
   ],
   "source": [
    "mimage.convert('RGB')"
   ]
  },
  {
   "cell_type": "code",
   "execution_count": null,
   "metadata": {
    "collapsed": true
   },
   "outputs": [],
   "source": []
  },
  {
   "cell_type": "code",
   "execution_count": 35,
   "metadata": {},
   "outputs": [
    {
     "name": "stdout",
     "output_type": "stream",
     "text": [
      "532 291      733 371\n"
     ]
    }
   ],
   "source": [
    "im2, contours, hierarchy = cv2.findContours(convert_mask.astype(np.uint8), cv2.RETR_TREE, cv2.CHAIN_APPROX_SIMPLE)\n",
    "\n",
    "tc = contours[1]\n",
    "reshaped_tc = tc.reshape((tc.shape[0], 2))\n",
    "\n",
    "print(reshaped_tc[:,:1].min(), reshaped_tc[:,1:].min(), '    ' ,reshaped_tc[:,:1].max(), reshaped_tc[:,1:].max())"
   ]
  },
  {
   "cell_type": "code",
   "execution_count": null,
   "metadata": {
    "collapsed": true
   },
   "outputs": [],
   "source": []
  },
  {
   "cell_type": "code",
   "execution_count": null,
   "metadata": {
    "collapsed": true
   },
   "outputs": [],
   "source": []
  },
  {
   "cell_type": "markdown",
   "metadata": {},
   "source": [
    "# Conclusions"
   ]
  },
  {
   "cell_type": "markdown",
   "metadata": {},
   "source": []
  },
  {
   "cell_type": "markdown",
   "metadata": {},
   "source": [
    "## Key findings"
   ]
  },
  {
   "cell_type": "markdown",
   "metadata": {},
   "source": [
    "* Key finding 1"
   ]
  },
  {
   "cell_type": "markdown",
   "metadata": {},
   "source": [
    "## Next steps"
   ]
  },
  {
   "cell_type": "markdown",
   "metadata": {},
   "source": [
    "* Next steps 1"
   ]
  }
 ],
 "metadata": {
  "kernelspec": {
   "display_name": "Python 3",
   "language": "python",
   "name": "python3"
  },
  "language_info": {
   "codemirror_mode": {
    "name": "ipython",
    "version": 3
   },
   "file_extension": ".py",
   "mimetype": "text/x-python",
   "name": "python",
   "nbconvert_exporter": "python",
   "pygments_lexer": "ipython3",
   "version": "3.6.1"
  },
  "nav_menu": {},
  "toc": {
   "navigate_menu": true,
   "number_sections": true,
   "sideBar": true,
   "threshold": 6,
   "toc_cell": true,
   "toc_section_display": "block",
   "toc_window_display": true
  }
 },
 "nbformat": 4,
 "nbformat_minor": 1
}
