{
 "cells": [
  {
   "cell_type": "markdown",
   "metadata": {
    "heading_collapsed": true
   },
   "source": [
    "# Table of Contents\n",
    "* [Introduction](#Introduction)\n",
    "\t* [Guiding questions](#Guiding-questions)\n",
    "\t* [Related notebooks](#Related-notebooks)\n",
    "* [Setup](#Setup)\n",
    "\t* [Imports](#Imports)\n",
    "\t* [Load data](#Load-data)\n",
    "\t* [code](#code)\n",
    "\t* [load](#load)\n",
    "* [Analysis](#Analysis)\n",
    "\t* [code](#code)\n",
    "\t* [run](#run)\n",
    "* [Conclusions](#Conclusions)\n",
    "\t* [Key findings](#Key-findings)\n",
    "\t* [Next steps](#Next-steps)\n"
   ]
  },
  {
   "cell_type": "markdown",
   "metadata": {},
   "source": [
    "# Introduction"
   ]
  },
  {
   "cell_type": "markdown",
   "metadata": {},
   "source": [
    "## Guiding questions"
   ]
  },
  {
   "cell_type": "markdown",
   "metadata": {},
   "source": [
    "* Guiding question:\n",
    "Can I improve grid extraction by finding largest component first, then extracting contours"
   ]
  },
  {
   "cell_type": "markdown",
   "metadata": {},
   "source": [
    "## Related notebooks"
   ]
  },
  {
   "cell_type": "markdown",
   "metadata": {},
   "source": [
    "* **Related notebooks:**  early_table_parse_experiment.ipynb"
   ]
  },
  {
   "cell_type": "markdown",
   "metadata": {
    "slideshow": {
     "slide_type": "-"
    }
   },
   "source": [
    "# Setup"
   ]
  },
  {
   "cell_type": "markdown",
   "metadata": {},
   "source": [
    "## Imports"
   ]
  },
  {
   "cell_type": "code",
   "execution_count": 1,
   "metadata": {
    "collapsed": true,
    "run_control": {
     "frozen": false,
     "read_only": false
    }
   },
   "outputs": [],
   "source": [
    "%%capture\n",
    "from __future__ import division\n",
    "import numpy as np\n",
    "import pandas as pd\n",
    "import scipy.stats as st\n",
    "import itertools\n",
    "import math\n",
    "import hashlib\n",
    "from collections import Counter, defaultdict\n",
    "%load_ext autoreload\n",
    "%autoreload 2"
   ]
  },
  {
   "cell_type": "code",
   "execution_count": 2,
   "metadata": {
    "collapsed": true,
    "run_control": {
     "frozen": false,
     "read_only": false
    }
   },
   "outputs": [],
   "source": [
    "%%capture\n",
    "import matplotlib as mpl\n",
    "import matplotlib.pylab as plt\n",
    "%matplotlib inline\n",
    "%load_ext base16_mplrc\n",
    "%base16_mplrc light solarized\n",
    "plt.rcParams['grid.linewidth'] = 0\n",
    "plt.rcParams['figure.figsize'] = (16.0, 10.0)"
   ]
  },
  {
   "cell_type": "code",
   "execution_count": 3,
   "metadata": {
    "collapsed": true,
    "run_control": {
     "frozen": false,
     "read_only": false
    }
   },
   "outputs": [],
   "source": [
    "import os\n",
    "import cv2\n",
    "\n",
    "import PIL.Image as Image\n",
    "import skimage.filters\n",
    "\n",
    "from urllib.request import url2pathname"
   ]
  },
  {
   "cell_type": "code",
   "execution_count": 4,
   "metadata": {
    "ExecuteTime": {
     "end_time": "2016-07-19T17:16:45.420136",
     "start_time": "2016-07-19T17:16:45.404054"
    },
    "run_control": {
     "frozen": false,
     "read_only": false
    }
   },
   "outputs": [
    {
     "data": {
      "application/json": {
       "Software versions": [
        {
         "module": "Python",
         "version": "3.6.1 64bit [GCC 4.2.1 Compatible Apple LLVM 8.0.0 (clang-800.0.42.1)]"
        },
        {
         "module": "IPython",
         "version": "6.0.0"
        },
        {
         "module": "OS",
         "version": "Darwin 16.6.0 x86_64 i386 64bit"
        },
        {
         "module": "numpy",
         "version": "1.12.1"
        },
        {
         "module": "matplotlib",
         "version": "2.0.2"
        },
        {
         "module": "pandas",
         "version": "0.20.1"
        },
        {
         "module": "scipy",
         "version": "0.19.0"
        },
        {
         "module": "cv2",
         "version": "3.2.0"
        },
        {
         "module": "skimage",
         "version": "0.13.0"
        },
        {
         "module": "PIL",
         "version": "4.1.1"
        }
       ]
      },
      "text/html": [
       "<table><tr><th>Software</th><th>Version</th></tr><tr><td>Python</td><td>3.6.1 64bit [GCC 4.2.1 Compatible Apple LLVM 8.0.0 (clang-800.0.42.1)]</td></tr><tr><td>IPython</td><td>6.0.0</td></tr><tr><td>OS</td><td>Darwin 16.6.0 x86_64 i386 64bit</td></tr><tr><td>numpy</td><td>1.12.1</td></tr><tr><td>matplotlib</td><td>2.0.2</td></tr><tr><td>pandas</td><td>0.20.1</td></tr><tr><td>scipy</td><td>0.19.0</td></tr><tr><td>cv2</td><td>3.2.0</td></tr><tr><td>skimage</td><td>0.13.0</td></tr><tr><td>PIL</td><td>4.1.1</td></tr><tr><td colspan='2'>Wed Jun 21 14:02:37 2017 PDT</td></tr></table>"
      ],
      "text/latex": [
       "\\begin{tabular}{|l|l|}\\hline\n",
       "{\\bf Software} & {\\bf Version} \\\\ \\hline\\hline\n",
       "Python & 3.6.1 64bit [GCC 4.2.1 Compatible Apple LLVM 8.0.0 (clang-800.0.42.1)] \\\\ \\hline\n",
       "IPython & 6.0.0 \\\\ \\hline\n",
       "OS & Darwin 16.6.0 x86\\_64 i386 64bit \\\\ \\hline\n",
       "numpy & 1.12.1 \\\\ \\hline\n",
       "matplotlib & 2.0.2 \\\\ \\hline\n",
       "pandas & 0.20.1 \\\\ \\hline\n",
       "scipy & 0.19.0 \\\\ \\hline\n",
       "cv2 & 3.2.0 \\\\ \\hline\n",
       "skimage & 0.13.0 \\\\ \\hline\n",
       "PIL & 4.1.1 \\\\ \\hline\n",
       "\\hline \\multicolumn{2}{|l|}{Wed Jun 21 14:02:37 2017 PDT} \\\\ \\hline\n",
       "\\end{tabular}\n"
      ],
      "text/plain": [
       "Software versions\n",
       "Python 3.6.1 64bit [GCC 4.2.1 Compatible Apple LLVM 8.0.0 (clang-800.0.42.1)]\n",
       "IPython 6.0.0\n",
       "OS Darwin 16.6.0 x86_64 i386 64bit\n",
       "numpy 1.12.1\n",
       "matplotlib 2.0.2\n",
       "pandas 0.20.1\n",
       "scipy 0.19.0\n",
       "cv2 3.2.0\n",
       "skimage 0.13.0\n",
       "PIL 4.1.1\n",
       "Wed Jun 21 14:02:37 2017 PDT"
      ]
     },
     "execution_count": 4,
     "metadata": {},
     "output_type": "execute_result"
    }
   ],
   "source": [
    "%load_ext version_information\n",
    "%reload_ext version_information\n",
    "%version_information numpy, matplotlib, pandas, scipy, cv2, skimage, PIL"
   ]
  },
  {
   "cell_type": "markdown",
   "metadata": {},
   "source": [
    "# Analysis"
   ]
  },
  {
   "cell_type": "markdown",
   "metadata": {},
   "source": [
    "## code"
   ]
  },
  {
   "cell_type": "code",
   "execution_count": 5,
   "metadata": {
    "code_folding": [],
    "collapsed": true,
    "run_control": {
     "frozen": false,
     "read_only": false
    }
   },
   "outputs": [],
   "source": [
    "def ifa(img_arr):\n",
    "    return Image.fromarray(img_arr)\n",
    "\n",
    "\n",
    "def ifb(blobs):\n",
    "    plt.imshow(blobs, cmap='nipy_spectral')\n",
    "    _ = plt.axis('off')\n",
    "\n",
    "    \n",
    "def random_color():\n",
    "    import random\n",
    "    return random.randint(0, 255), random.randint(0, 255), random.randint(0, 255)\n",
    "\n",
    "\n",
    "def draw_detections(img_path, found_cells):    \n",
    "    image = cv2.imread(img_path)\n",
    "    color_counter = 0\n",
    "    for cell in found_cells:\n",
    "        start_x = cell[0][0]\n",
    "        start_y = cell[0][1]\n",
    "        end_x = cell[1][0]\n",
    "        end_y = cell[1][1]\n",
    "        cv2.rectangle(image, (start_x, start_y), (end_x, end_y), color=random_color(), thickness=2)\n",
    "        color_counter += 1\n",
    "    return Image.fromarray(image)"
   ]
  },
  {
   "cell_type": "code",
   "execution_count": 6,
   "metadata": {
    "collapsed": true,
    "run_control": {
     "frozen": false,
     "read_only": false
    }
   },
   "outputs": [],
   "source": [
    "# %%time\n",
    "# for image_to_do in test_images[97:]:\n",
    "#     test_img = cv2.imread(image_to_do)\n",
    "#     image_name = os.path.split(image_to_do)[-1]\n",
    "\n",
    "#     foreground_img = foreground_image(test_img)\n",
    "#     connected_components = connect_and_label_components(foreground_img)\n",
    "#     candidate_grid = find_largest_component(connected_components)\n",
    "#     grid_contours = compute_grid_contours(candidate_grid)\n",
    "\n",
    "#     bounding_boxes = [cell_from_contour(cont) for cont in grid_contours]\n",
    "\n",
    "#     cv2.imwrite(os.path.join(output_dir, image_name), test_img)\n",
    "#     cv2.imwrite(os.path.join(output_dir, image_name.replace('.png', '_grid.png')), candidate_grid)\n",
    "#     draw_detections(image_to_do, bounding_boxes).save(os.path.join(output_dir,image_name.replace('.png', '_cells.png')))"
   ]
  },
  {
   "cell_type": "markdown",
   "metadata": {},
   "source": [
    "## run"
   ]
  },
  {
   "cell_type": "code",
   "execution_count": 7,
   "metadata": {
    "collapsed": true,
    "run_control": {
     "frozen": false,
     "read_only": false
    }
   },
   "outputs": [],
   "source": [
    "from ai2.vision.tableparse.detect_grid import foreground_image\n",
    "from ai2.vision.tableparse.detect_grid import connect_and_label_components\n",
    "from ai2.vision.tableparse.detect_grid import find_largest_component\n",
    "from ai2.vision.tableparse.detect_grid import compute_grid_contours\n",
    "from ai2.vision.tableparse.detect_grid import cell_from_contour\n",
    "from ai2.vision.tableparse.img_utils import ifa\n",
    "\n",
    "from ai2.vision.tableparse.cell import GridCell"
   ]
  },
  {
   "cell_type": "code",
   "execution_count": 8,
   "metadata": {
    "collapsed": true,
    "run_control": {
     "frozen": false,
     "read_only": false
    }
   },
   "outputs": [],
   "source": [
    "import glob\n",
    "hard_image = '/Users/schwenk/wrk/tableparse/data/tricky_tables/unnamed-3.png'\n",
    "another_image = '/Users/schwenk/wrk/tableparse/data/tricky_tables/unnamed-2.png'\n",
    "easy_image = '/Users/schwenk/wrk/tableparse/vision-tableparse/examples/sight-word-bingo.png'\n",
    "\n",
    "output_dir = 'test_cc_output'\n",
    "test_images = glob.glob('/Users/schwenk/wrk/tableparse/data/test_data/images/*')"
   ]
  },
  {
   "cell_type": "code",
   "execution_count": 9,
   "metadata": {
    "run_control": {
     "frozen": false,
     "read_only": false
    }
   },
   "outputs": [
    {
     "data": {
      "text/plain": [
       "'/Users/schwenk/wrk/tableparse/data/test_data/images/table_111.png'"
      ]
     },
     "execution_count": 9,
     "metadata": {},
     "output_type": "execute_result"
    }
   ],
   "source": [
    "image_to_do = test_images[110]\n",
    "\n",
    "image_to_do"
   ]
  },
  {
   "cell_type": "code",
   "execution_count": 13,
   "metadata": {
    "collapsed": true,
    "run_control": {
     "frozen": false,
     "read_only": false
    }
   },
   "outputs": [],
   "source": [
    "# image_to_do = '/Users/schwenk/wrk/tableparse/data/tricky_tables/unnamed-1.png'\n",
    "image_to_do = '/Users/schwenk/wrk/tableparse/data/test_data/images/table_002.png'"
   ]
  },
  {
   "cell_type": "code",
   "execution_count": 14,
   "metadata": {
    "collapsed": true,
    "run_control": {
     "frozen": false,
     "read_only": false
    }
   },
   "outputs": [],
   "source": [
    "test_img = cv2.imread(image_to_do)\n",
    "image_gray = cv2.cvtColor(test_img, cv2.COLOR_BGR2GRAY)\n",
    "foreground_img = foreground_image(image_gray)\n",
    "connected_components = connect_and_label_components(foreground_img)\n",
    "candidate_grid = find_largest_component(connected_components)\n",
    "grid_contours = compute_grid_contours(candidate_grid)\n",
    "grid_cells = [GridCell(cell_from_contour(cont)) for cont in grid_contours]\n",
    "bounding_boxes = [cell_from_contour(cont) for cont in grid_contours]"
   ]
  },
  {
   "cell_type": "markdown",
   "metadata": {},
   "source": [
    "next and previous contours at the same hierarchical level, the first child contour and the parent contour"
   ]
  },
  {
   "cell_type": "code",
   "execution_count": null,
   "metadata": {
    "collapsed": true,
    "run_control": {
     "frozen": false,
     "read_only": false
    }
   },
   "outputs": [],
   "source": []
  },
  {
   "cell_type": "code",
   "execution_count": 15,
   "metadata": {
    "run_control": {
     "frozen": false,
     "read_only": false
    }
   },
   "outputs": [
    {
     "data": {
      "image/png": "[encoded data removed]",
      "text/plain": [
       "<PIL.Image.Image image mode=L size=641x323 at 0x1124D4F60>"
      ]
     },
     "execution_count": 15,
     "metadata": {},
     "output_type": "execute_result"
    }
   ],
   "source": [
    "ifa(candidate_grid)"
   ]
  },
  {
   "cell_type": "code",
   "execution_count": 16,
   "metadata": {
    "run_control": {
     "frozen": false,
     "read_only": false
    }
   },
   "outputs": [
    {
     "data": {
      "image/png": "[encoded data removed]",
      "text/plain": [
       "<PIL.Image.Image image mode=L size=641x323 at 0x10FC1D908>"
      ]
     },
     "execution_count": 16,
     "metadata": {},
     "output_type": "execute_result"
    }
   ],
   "source": [
    "ifa(cv2.add(image_gray, candidate_grid))"
   ]
  },
  {
   "cell_type": "code",
   "execution_count": 133,
   "metadata": {
    "run_control": {
     "frozen": false,
     "read_only": false
    }
   },
   "outputs": [
    {
     "data": {
      "text/plain": [
       "255    505087\n",
       "31      13564\n",
       "dtype: int64"
      ]
     },
     "execution_count": 133,
     "metadata": {},
     "output_type": "execute_result"
    }
   ],
   "source": [
    "agc = pd.Series((candidate_grid + timg).flatten()).value_counts()\n",
    "agc[agc.index.isin([31, 255])]"
   ]
  },
  {
   "cell_type": "code",
   "execution_count": 83,
   "metadata": {
    "run_control": {
     "frozen": false,
     "read_only": false
    },
    "scrolled": false
   },
   "outputs": [
    {
     "data": {
      "image/png": "[encoded data removed]",
      "text/plain": [
       "<PIL.Image.Image image mode=RGB size=466x342 at 0x119DBE048>"
      ]
     },
     "execution_count": 83,
     "metadata": {},
     "output_type": "execute_result"
    }
   ],
   "source": [
    "draw_detections(image_to_do, bounding_boxes)"
   ]
  },
  {
   "cell_type": "code",
   "execution_count": 726,
   "metadata": {
    "run_control": {
     "frozen": false,
     "read_only": false
    }
   },
   "outputs": [
    {
     "data": {
      "image/png": "[encoded data removed]",
      "text/plain": [
       "<PIL.Image.Image image mode=RGB size=490x352 at 0x10C8D30B8>"
      ]
     },
     "execution_count": 726,
     "metadata": {},
     "output_type": "execute_result"
    }
   ],
   "source": [
    "ifa(test_img)"
   ]
  },
  {
   "cell_type": "code",
   "execution_count": 727,
   "metadata": {
    "run_control": {
     "frozen": false,
     "read_only": false
    }
   },
   "outputs": [
    {
     "data": {
      "image/png": "[encoded data removed]",
      "text/plain": [
       "<PIL.Image.Image image mode=L size=490x352 at 0x10C8D3EB8>"
      ]
     },
     "execution_count": 727,
     "metadata": {},
     "output_type": "execute_result"
    }
   ],
   "source": [
    "ifa(foreground_img)"
   ]
  },
  {
   "cell_type": "code",
   "execution_count": 728,
   "metadata": {
    "run_control": {
     "frozen": false,
     "read_only": false
    }
   },
   "outputs": [
    {
     "data": {
      "image/png": "[encoded data removed]",
      "text/plain": [
       "<PIL.Image.Image image mode=L size=490x352 at 0x1225ADE48>"
      ]
     },
     "execution_count": 728,
     "metadata": {},
     "output_type": "execute_result"
    }
   ],
   "source": [
    "ifa(candidate_grid)"
   ]
  },
  {
   "cell_type": "code",
   "execution_count": 729,
   "metadata": {
    "run_control": {
     "frozen": false,
     "read_only": false
    }
   },
   "outputs": [
    {
     "data": {
      "image/png": "[encoded data removed]",
      "text/plain": [
       "<matplotlib.figure.Figure at 0x1225add30>"
      ]
     },
     "metadata": {},
     "output_type": "display_data"
    }
   ],
   "source": [
    "ifb(connected_components)"
   ]
  },
  {
   "cell_type": "markdown",
   "metadata": {
    "heading_collapsed": true
   },
   "source": [
    "# match to OCR"
   ]
  },
  {
   "cell_type": "code",
   "execution_count": 1051,
   "metadata": {
    "hidden": true,
    "run_control": {
     "frozen": false,
     "read_only": false
    }
   },
   "outputs": [
    {
     "data": {
      "image/png": "[encoded data removed]",
      "text/plain": [
       "<PIL.Image.Image image mode=RGB size=308x175 at 0x124400908>"
      ]
     },
     "execution_count": 1051,
     "metadata": {},
     "output_type": "execute_result"
    }
   ],
   "source": [
    "image_to_do = test_images[97]\n",
    "\n",
    "test_img = cv2.imread(image_to_do)\n",
    "image_name = os.path.split(image_to_do)[-1]\n",
    "\n",
    "foreground_img = foreground_image(test_img)\n",
    "connected_components = connect_and_label_components(foreground_img)\n",
    "candidate_grid = find_largest_component(connected_components)\n",
    "grid_contours = compute_grid_contours(candidate_grid)\n",
    "\n",
    "bounding_boxes = [cell_from_contour(cont) for cont in grid_contours]\n",
    "draw_detections(image_to_do, bounding_boxes)"
   ]
  },
  {
   "cell_type": "code",
   "execution_count": 190,
   "metadata": {
    "hidden": true,
    "run_control": {
     "frozen": false,
     "read_only": false
    }
   },
   "outputs": [
    {
     "data": {
      "text/plain": [
       "array([[556,  42],\n",
       "       [556,  43],\n",
       "       [556, 225],\n",
       "       ..., \n",
       "       [783, 674],\n",
       "       [783, 675],\n",
       "       [783, 676]])"
      ]
     },
     "execution_count": 190,
     "metadata": {},
     "output_type": "execute_result"
    }
   ],
   "source": [
    "np.argwhere(candidate_grid)"
   ]
  },
  {
   "cell_type": "code",
   "execution_count": 800,
   "metadata": {
    "collapsed": true,
    "hidden": true,
    "run_control": {
     "frozen": false,
     "read_only": false
    }
   },
   "outputs": [],
   "source": [
    "test_ocr_img =cv2.cvtColor(test_img, cv2.COLOR_BGR2GRAY) + candidate_grid"
   ]
  },
  {
   "cell_type": "code",
   "execution_count": 801,
   "metadata": {
    "hidden": true,
    "run_control": {
     "frozen": false,
     "read_only": false
    }
   },
   "outputs": [
    {
     "data": {
      "image/png": "[encoded data removed]",
      "text/plain": [
       "<PIL.Image.Image image mode=L size=308x175 at 0x10C8E42E8>"
      ]
     },
     "execution_count": 801,
     "metadata": {},
     "output_type": "execute_result"
    }
   ],
   "source": [
    "ifa(test_ocr_img)"
   ]
  },
  {
   "cell_type": "code",
   "execution_count": 802,
   "metadata": {
    "collapsed": true,
    "hidden": true,
    "run_control": {
     "frozen": false,
     "read_only": false
    }
   },
   "outputs": [],
   "source": [
    "img_buffer = BytesIO()"
   ]
  },
  {
   "cell_type": "code",
   "execution_count": 803,
   "metadata": {
    "collapsed": true,
    "hidden": true,
    "run_control": {
     "frozen": false,
     "read_only": false
    }
   },
   "outputs": [],
   "source": [
    "ifa(test_ocr_img).save(img_buffer, format=\"PNG\")\n",
    "img_str = base64.b64encode(img_buffer.getvalue())"
   ]
  },
  {
   "cell_type": "code",
   "execution_count": 1108,
   "metadata": {
    "collapsed": true,
    "hidden": true,
    "run_control": {
     "frozen": false,
     "read_only": false
    }
   },
   "outputs": [],
   "source": [
    "img_str = base64.b64encode(cv2.imencode('.png', test_ocr_img)[1].tostring())"
   ]
  },
  {
   "cell_type": "code",
   "execution_count": null,
   "metadata": {
    "collapsed": true,
    "hidden": true,
    "run_control": {
     "frozen": false,
     "read_only": false
    }
   },
   "outputs": [],
   "source": []
  },
  {
   "cell_type": "code",
   "execution_count": 1109,
   "metadata": {
    "collapsed": true,
    "hidden": true,
    "run_control": {
     "frozen": false,
     "read_only": false
    }
   },
   "outputs": [],
   "source": [
    "import base64\n",
    "from io import BytesIO\n",
    "import requests"
   ]
  },
  {
   "cell_type": "code",
   "execution_count": 1110,
   "metadata": {
    "hidden": true,
    "run_control": {
     "frozen": false,
     "read_only": false
    }
   },
   "outputs": [
    {
     "name": "stdout",
     "output_type": "stream",
     "text": [
      "OK\n"
     ]
    }
   ],
   "source": [
    "api_entry_point = 'http://vision-ocr.dev.allenai.org/v1/ocr'\n",
    "b64_encoded_image = base64.b64encode(test_ocr_img.tostring())\n",
    "header = {'Content-Type': 'application/json'}\n",
    "request_data = {\n",
    "    'image': img_str.decode('utf-8'),\n",
    "    'mergeBoxes': False,\n",
    "    'includeMergedComponents': True\n",
    "}\n",
    "\n",
    "json_data = json.dumps(request_data)\n",
    "response = requests.post(api_entry_point, data=json_data, headers=header)\n",
    "print(response.reason)\n",
    "json_response = json.loads(response.content.decode())"
   ]
  },
  {
   "cell_type": "code",
   "execution_count": 807,
   "metadata": {
    "collapsed": true,
    "hidden": true,
    "run_control": {
     "frozen": false,
     "read_only": false
    }
   },
   "outputs": [],
   "source": [
    "def query_vision_ocr(image_url, merge_boxes=False, include_merged_components=False, as_json=True):\n",
    "    b64_encoded_image = base64.b64encode(test_ocr_img)\n",
    "    api_entry_point = 'http://vision-ocr.dev.allenai.org/v1/ocr'\n",
    "    b64_encoded_image = base64.b64encode(test_ocr_img)\n",
    "\n",
    "    header = {'Content-Type': 'application/json'}\n",
    "    request_data = {\n",
    "        'image': base_64_img,\n",
    "        'mergeBoxes': merge_boxes,\n",
    "        'includeMergedComponents': include_merged_components\n",
    "    }\n",
    "\n",
    "    json_data = json.dumps(request_data)\n",
    "    response = requests.post(api_entry_point, data=json_data, headers=header)\n",
    "    print(response.reason)\n",
    "    json_response = json.loads(response.content.decode())\n",
    "    if as_json:\n",
    "        response = json_response\n",
    "    return response"
   ]
  },
  {
   "cell_type": "code",
   "execution_count": 62,
   "metadata": {
    "collapsed": true,
    "hidden": true,
    "run_control": {
     "frozen": false,
     "read_only": false
    }
   },
   "outputs": [],
   "source": [
    "def draw_detections_w_text(img_path, grid_cells):    \n",
    "    image = cv2.imread(img_path)\n",
    "    color_counter = 0\n",
    "    for cell in grid_cells:\n",
    "        cv2.rectangle(image, (cell.l_x(), cell.l_y()), (cell.u_x(), cell.u_y()), color=random_color(), thickness=2)\n",
    "        cv2.putText(image, cell.text(), (cell.l_x(), cell.u_y()), cv2.FONT_HERSHEY_PLAIN, 0.8, (0,0,255), 2)\n",
    "        color_counter += 1\n",
    "    return Image.fromarray(image)"
   ]
  },
  {
   "cell_type": "code",
   "execution_count": 64,
   "metadata": {
    "collapsed": true,
    "hidden": true,
    "run_control": {
     "frozen": false,
     "read_only": false
    }
   },
   "outputs": [],
   "source": [
    "grid_cells = [GridCell(cell) for cell in bounding_boxes]"
   ]
  },
  {
   "cell_type": "code",
   "execution_count": 1096,
   "metadata": {
    "collapsed": true,
    "hidden": true,
    "run_control": {
     "frozen": false,
     "read_only": false
    }
   },
   "outputs": [],
   "source": [
    "matches = assign_ocr_to_cells(ocr_detections, grid_cells)"
   ]
  },
  {
   "cell_type": "code",
   "execution_count": 1097,
   "metadata": {
    "collapsed": true,
    "hidden": true,
    "run_control": {
     "frozen": false,
     "read_only": false
    }
   },
   "outputs": [],
   "source": [
    "matches"
   ]
  },
  {
   "cell_type": "code",
   "execution_count": 1098,
   "metadata": {
    "hidden": true,
    "run_control": {
     "frozen": false,
     "read_only": false
    }
   },
   "outputs": [
    {
     "data": {
      "text/plain": [
       "[Data Table, 195, 118, 26, 13,\n",
       " Day, 84, 54, 53, 37,\n",
       " Air Temperature (OF), 287, 134, 53, 37,\n",
       " Monday, 78, 21, 76, 56,\n",
       " 57, 220, 202, 72, 60,\n",
       " Tuesday, 81, 21, 99, 81,\n",
       " 52, 220, 202, 96, 82,\n",
       " Wednesday, 105, 21, 120, 104,\n",
       " 58, 220, 201, 118, 104,\n",
       " Thursday, 87, 21, 142, 125,\n",
       " 71, 218, 201, 140, 126,\n",
       " Friday, 65, 22, 165, 146,\n",
       " 75, 221, 202, 162, 147]"
      ]
     },
     "execution_count": 1098,
     "metadata": {},
     "output_type": "execute_result"
    }
   ],
   "source": [
    "ocr_detections"
   ]
  },
  {
   "cell_type": "code",
   "execution_count": 1103,
   "metadata": {
    "hidden": true,
    "run_control": {
     "frozen": false,
     "read_only": false
    }
   },
   "outputs": [
    {
     "data": {
      "image/png": "[encoded data removed]",
      "text/plain": [
       "<PIL.Image.Image image mode=RGB size=308x175 at 0x1243FA6D8>"
      ]
     },
     "execution_count": 1103,
     "metadata": {},
     "output_type": "execute_result"
    }
   ],
   "source": [
    "draw_detections_w_text(image_to_do, grid_cells)"
   ]
  },
  {
   "cell_type": "code",
   "execution_count": 1104,
   "metadata": {
    "hidden": true,
    "run_control": {
     "frozen": false,
     "read_only": false
    }
   },
   "outputs": [
    {
     "data": {
      "text/plain": [
       "[75, 298, 123, 166, 144,\n",
       " Friday, 123, 13, 166, 144,\n",
       " 71, 298, 123, 144, 122,\n",
       " Thursday, 123, 13, 144, 122,\n",
       " 58, 298, 123, 122, 100,\n",
       " Wednesday, 123, 13, 122, 100,\n",
       " 52, 298, 123, 100, 78,\n",
       " Tuesday, 123, 13, 100, 78,\n",
       " 57, 298, 123, 78, 56,\n",
       " Monday, 123, 13, 78, 56,\n",
       " Air Temperature (OF), 298, 123, 56, 34,\n",
       " Day, 123, 13, 56, 34]"
      ]
     },
     "execution_count": 1104,
     "metadata": {},
     "output_type": "execute_result"
    }
   ],
   "source": [
    "grid_cells"
   ]
  },
  {
   "cell_type": "markdown",
   "metadata": {},
   "source": [
    "# Conclusions"
   ]
  },
  {
   "cell_type": "markdown",
   "metadata": {},
   "source": [
    "Using connected components to find the grid is promising. It should work for nearly all Aristo Tables"
   ]
  },
  {
   "cell_type": "code",
   "execution_count": null,
   "metadata": {
    "collapsed": true,
    "run_control": {
     "frozen": false,
     "read_only": false
    }
   },
   "outputs": [],
   "source": []
  }
 ],
 "metadata": {
  "kernelspec": {
   "display_name": "Python 3",
   "language": "python",
   "name": "python3"
  },
  "language_info": {
   "codemirror_mode": {
    "name": "ipython",
    "version": 3
   },
   "file_extension": ".py",
   "mimetype": "text/x-python",
   "name": "python",
   "nbconvert_exporter": "python",
   "pygments_lexer": "ipython3",
   "version": "3.6.1"
  },
  "nav_menu": {},
  "toc": {
   "navigate_menu": true,
   "number_sections": true,
   "sideBar": true,
   "threshold": 6,
   "toc_cell": true,
   "toc_section_display": "block",
   "toc_window_display": true
  }
 },
 "nbformat": 4,
 "nbformat_minor": 1
}
