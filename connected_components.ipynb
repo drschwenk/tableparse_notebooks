{
 "cells": [
  {
   "cell_type": "markdown",
   "metadata": {
    "heading_collapsed": true
   },
   "source": [
    "# Table of Contents\n",
    "* [Introduction](#Introduction)\n",
    "\t* [Guiding questions](#Guiding-questions)\n",
    "\t* [Related notebooks](#Related-notebooks)\n",
    "* [Setup](#Setup)\n",
    "\t* [Imports](#Imports)\n",
    "\t* [Load data](#Load-data)\n",
    "\t* [code](#code)\n",
    "\t* [load](#load)\n",
    "* [Analysis](#Analysis)\n",
    "\t* [code](#code)\n",
    "\t* [run](#run)\n",
    "* [Conclusions](#Conclusions)\n",
    "\t* [Key findings](#Key-findings)\n",
    "\t* [Next steps](#Next-steps)\n"
   ]
  },
  {
   "cell_type": "markdown",
   "metadata": {
    "heading_collapsed": true
   },
   "source": [
    "# Introduction"
   ]
  },
  {
   "cell_type": "markdown",
   "metadata": {
    "hidden": true
   },
   "source": [
    "## Guiding questions"
   ]
  },
  {
   "cell_type": "markdown",
   "metadata": {
    "hidden": true
   },
   "source": [
    "* Guiding question:\n",
    "Can I improve grid extraction by finding largest component first, then extracting contours"
   ]
  },
  {
   "cell_type": "markdown",
   "metadata": {
    "hidden": true
   },
   "source": [
    "## Related notebooks"
   ]
  },
  {
   "cell_type": "markdown",
   "metadata": {
    "hidden": true
   },
   "source": [
    "* **Related notebooks:**  early_table_parse_experiment.ipynb"
   ]
  },
  {
   "cell_type": "markdown",
   "metadata": {
    "heading_collapsed": true,
    "slideshow": {
     "slide_type": "-"
    }
   },
   "source": [
    "# Setup"
   ]
  },
  {
   "cell_type": "markdown",
   "metadata": {
    "hidden": true
   },
   "source": [
    "## Imports"
   ]
  },
  {
   "cell_type": "code",
   "execution_count": 1,
   "metadata": {
    "collapsed": true,
    "hidden": true,
    "run_control": {
     "frozen": false,
     "read_only": false
    }
   },
   "outputs": [],
   "source": [
    "%%capture\n",
    "from __future__ import division\n",
    "import numpy as np\n",
    "import pandas as pd\n",
    "import scipy.stats as st\n",
    "import itertools\n",
    "import math\n",
    "import hashlib\n",
    "from collections import Counter, defaultdict\n",
    "%load_ext autoreload\n",
    "%autoreload 2"
   ]
  },
  {
   "cell_type": "code",
   "execution_count": 2,
   "metadata": {
    "collapsed": true,
    "hidden": true,
    "run_control": {
     "frozen": false,
     "read_only": false
    }
   },
   "outputs": [],
   "source": [
    "%%capture\n",
    "import matplotlib as mpl\n",
    "import matplotlib.pylab as plt\n",
    "%matplotlib inline\n",
    "%load_ext base16_mplrc\n",
    "%base16_mplrc light solarized\n",
    "plt.rcParams['grid.linewidth'] = 0\n",
    "plt.rcParams['figure.figsize'] = (16.0, 10.0)"
   ]
  },
  {
   "cell_type": "code",
   "execution_count": 3,
   "metadata": {
    "collapsed": true,
    "hidden": true,
    "run_control": {
     "frozen": false,
     "read_only": false
    }
   },
   "outputs": [],
   "source": [
    "import os\n",
    "import cv2\n",
    "\n",
    "import PIL.Image as Image\n",
    "import skimage.filters\n",
    "\n",
    "from urllib.request import url2pathname"
   ]
  },
  {
   "cell_type": "code",
   "execution_count": 4,
   "metadata": {
    "ExecuteTime": {
     "end_time": "2016-07-19T17:16:45.420136",
     "start_time": "2016-07-19T17:16:45.404054"
    },
    "hidden": true,
    "run_control": {
     "frozen": false,
     "read_only": false
    }
   },
   "outputs": [
    {
     "data": {
      "application/json": {
       "Software versions": [
        {
         "module": "Python",
         "version": "3.6.1 64bit [GCC 4.2.1 Compatible Apple LLVM 8.0.0 (clang-800.0.42.1)]"
        },
        {
         "module": "IPython",
         "version": "6.0.0"
        },
        {
         "module": "OS",
         "version": "Darwin 16.6.0 x86_64 i386 64bit"
        },
        {
         "module": "numpy",
         "version": "1.12.1"
        },
        {
         "module": "matplotlib",
         "version": "2.0.2"
        },
        {
         "module": "pandas",
         "version": "0.20.1"
        },
        {
         "module": "scipy",
         "version": "0.19.0"
        },
        {
         "module": "cv2",
         "version": "3.2.0"
        },
        {
         "module": "skimage",
         "version": "0.13.0"
        },
        {
         "module": "PIL",
         "version": "4.1.1"
        }
       ]
      },
      "text/html": [
       "<table><tr><th>Software</th><th>Version</th></tr><tr><td>Python</td><td>3.6.1 64bit [GCC 4.2.1 Compatible Apple LLVM 8.0.0 (clang-800.0.42.1)]</td></tr><tr><td>IPython</td><td>6.0.0</td></tr><tr><td>OS</td><td>Darwin 16.6.0 x86_64 i386 64bit</td></tr><tr><td>numpy</td><td>1.12.1</td></tr><tr><td>matplotlib</td><td>2.0.2</td></tr><tr><td>pandas</td><td>0.20.1</td></tr><tr><td>scipy</td><td>0.19.0</td></tr><tr><td>cv2</td><td>3.2.0</td></tr><tr><td>skimage</td><td>0.13.0</td></tr><tr><td>PIL</td><td>4.1.1</td></tr><tr><td colspan='2'>Fri Jun 02 16:59:21 2017 PDT</td></tr></table>"
      ],
      "text/latex": [
       "\\begin{tabular}{|l|l|}\\hline\n",
       "{\\bf Software} & {\\bf Version} \\\\ \\hline\\hline\n",
       "Python & 3.6.1 64bit [GCC 4.2.1 Compatible Apple LLVM 8.0.0 (clang-800.0.42.1)] \\\\ \\hline\n",
       "IPython & 6.0.0 \\\\ \\hline\n",
       "OS & Darwin 16.6.0 x86\\_64 i386 64bit \\\\ \\hline\n",
       "numpy & 1.12.1 \\\\ \\hline\n",
       "matplotlib & 2.0.2 \\\\ \\hline\n",
       "pandas & 0.20.1 \\\\ \\hline\n",
       "scipy & 0.19.0 \\\\ \\hline\n",
       "cv2 & 3.2.0 \\\\ \\hline\n",
       "skimage & 0.13.0 \\\\ \\hline\n",
       "PIL & 4.1.1 \\\\ \\hline\n",
       "\\hline \\multicolumn{2}{|l|}{Fri Jun 02 16:59:21 2017 PDT} \\\\ \\hline\n",
       "\\end{tabular}\n"
      ],
      "text/plain": [
       "Software versions\n",
       "Python 3.6.1 64bit [GCC 4.2.1 Compatible Apple LLVM 8.0.0 (clang-800.0.42.1)]\n",
       "IPython 6.0.0\n",
       "OS Darwin 16.6.0 x86_64 i386 64bit\n",
       "numpy 1.12.1\n",
       "matplotlib 2.0.2\n",
       "pandas 0.20.1\n",
       "scipy 0.19.0\n",
       "cv2 3.2.0\n",
       "skimage 0.13.0\n",
       "PIL 4.1.1\n",
       "Fri Jun 02 16:59:21 2017 PDT"
      ]
     },
     "execution_count": 4,
     "metadata": {},
     "output_type": "execute_result"
    }
   ],
   "source": [
    "%load_ext version_information\n",
    "%reload_ext version_information\n",
    "%version_information numpy, matplotlib, pandas, scipy, cv2, skimage, PIL"
   ]
  },
  {
   "cell_type": "markdown",
   "metadata": {},
   "source": [
    "# Analysis"
   ]
  },
  {
   "cell_type": "markdown",
   "metadata": {},
   "source": [
    "## code"
   ]
  },
  {
   "cell_type": "code",
   "execution_count": 1040,
   "metadata": {
    "code_folding": [],
    "collapsed": true,
    "run_control": {
     "frozen": false,
     "read_only": false
    }
   },
   "outputs": [],
   "source": [
    "def ifa(img_arr):\n",
    "    return Image.fromarray(img_arr)\n",
    "\n",
    "\n",
    "def ifb(blobs):\n",
    "    plt.imshow(blobs, cmap='nipy_spectral')\n",
    "    _ = plt.axis('off')\n",
    "\n",
    "    \n",
    "def random_color():\n",
    "    import random\n",
    "    return random.randint(0, 255), random.randint(0, 255), random.randint(0, 255)\n",
    "\n",
    "\n",
    "def draw_detections(img_path, found_cells):    \n",
    "    image = cv2.imread(img_path)\n",
    "    color_counter = 0\n",
    "    for cell in found_cells:\n",
    "        start_x = cell[0][0]\n",
    "        start_y = cell[0][1]\n",
    "        end_x = cell[1][0]\n",
    "        end_y = cell[1][1]\n",
    "        cv2.rectangle(image, (start_x, start_y), (end_x, end_y), color=random_color(), thickness=2)\n",
    "        color_counter += 1\n",
    "    return Image.fromarray(image)\n"
   ]
  },
  {
   "cell_type": "code",
   "execution_count": 1041,
   "metadata": {
    "collapsed": true,
    "run_control": {
     "frozen": false,
     "read_only": false
    }
   },
   "outputs": [],
   "source": [
    "def convert_binary_image(binary_image):\n",
    "    image = binary_image.astype('uint8') * np.ones_like(binary_image) * 255\n",
    "    return image\n",
    "\n",
    "\n",
    "def foreground_image(img):\n",
    "    gray = cv2.cvtColor(img, cv2.COLOR_BGR2GRAY)\n",
    "    thresh_val = skimage.filters.threshold_li(gray)\n",
    "    foreground = gray < thresh_val\n",
    "    return convert_binary_image(foreground)\n",
    "\n",
    "\n",
    "def connect_and_label_components(foreground_img):\n",
    "    img = foreground_img\n",
    "    blobs = img > img.mean()\n",
    "    labeled_image_components = skimage.measure.label(blobs)\n",
    "    return labeled_image_components\n",
    "\n",
    "\n",
    "def find_largest_component(labeled_components):\n",
    "    regions = skimage.measure.regionprops(labeled_components)\n",
    "    regions_by_area = sorted(regions, key=lambda x: x.convex_area, reverse=True)\n",
    "    largest_region = regions_by_area[0]\n",
    "    return convert_binary_image(labeled_components == largest_region.label)\n",
    "\n",
    "\n",
    "def cell_from_contour(contour):\n",
    "    cont = contour.reshape((contour.shape[0], 2))\n",
    "    bounding_box = (cont[:,:1].min(), cont[:,1:].min()) , (cont[:,:1].max(), cont[:,1:].max())\n",
    "    return bounding_box\n",
    "\n",
    "def compute_grid_contours(assumed_grid_mask):\n",
    "    converted_mask =  assumed_grid_mask * np.ones_like(assumed_grid_mask) * 255\n",
    "    _, contours, hierarchy = cv2.findContours(converted_mask.astype(np.uint8), cv2.RETR_TREE, cv2.CHAIN_APPROX_SIMPLE)\n",
    "    hierarchy = hierarchy.reshape(hierarchy.shape[1:])\n",
    "    child_idxs = hierarchy[:,-1] == 0\n",
    "    return [cont for idx, cont in enumerate(contours) if child_idxs[idx]]"
   ]
  },
  {
   "cell_type": "markdown",
   "metadata": {},
   "source": [
    "## run"
   ]
  },
  {
   "cell_type": "code",
   "execution_count": 1042,
   "metadata": {
    "collapsed": true
   },
   "outputs": [],
   "source": [
    "hard_image = '/Users/schwenk/wrk/tableparse/data/tricky_tables/unnamed-3.png'\n",
    "another_image = '/Users/schwenk/wrk/tableparse/data/tricky_tables/unnamed-2.png'\n",
    "easy_image = '/Users/schwenk/wrk/tableparse/vision-tableparse/examples/sight-word-bingo.png'\n",
    "\n",
    "output_dir = 'test_cc_output'\n",
    "test_images = glob.glob('/Users/schwenk/wrk/tableparse/data/test_data/images/*')"
   ]
  },
  {
   "cell_type": "code",
   "execution_count": 1043,
   "metadata": {
    "collapsed": true,
    "run_control": {
     "frozen": false,
     "read_only": false
    }
   },
   "outputs": [],
   "source": [
    "image_to_do = test_images[100]"
   ]
  },
  {
   "cell_type": "code",
   "execution_count": 1047,
   "metadata": {},
   "outputs": [],
   "source": [
    "# %%time\n",
    "# for image_to_do in test_images[97:]:\n",
    "#     test_img = cv2.imread(image_to_do)\n",
    "#     image_name = os.path.split(image_to_do)[-1]\n",
    "\n",
    "#     foreground_img = foreground_image(test_img)\n",
    "#     connected_components = connect_and_label_components(foreground_img)\n",
    "#     candidate_grid = find_largest_component(connected_components)\n",
    "#     grid_contours = compute_grid_contours(candidate_grid)\n",
    "\n",
    "#     bounding_boxes = [cell_from_contour(cont) for cont in grid_contours]\n",
    "\n",
    "#     cv2.imwrite(os.path.join(output_dir, image_name), test_img)\n",
    "#     cv2.imwrite(os.path.join(output_dir, image_name.replace('.png', '_grid.png')), candidate_grid)\n",
    "#     draw_detections(image_to_do, bounding_boxes).save(os.path.join(output_dir,image_name.replace('.png', '_cells.png')))"
   ]
  },
  {
   "cell_type": "code",
   "execution_count": 1048,
   "metadata": {
    "collapsed": true
   },
   "outputs": [],
   "source": [
    "test_img = cv2.imread(image_to_do)\n",
    "image_name = os.path.split(image_to_do)[-1]\n",
    "\n",
    "foreground_img = foreground_image(test_img)\n",
    "connected_components = connect_and_label_components(foreground_img)\n",
    "candidate_grid = find_largest_component(connected_components)\n",
    "grid_contours = compute_grid_contours(candidate_grid)\n",
    "\n",
    "bounding_boxes = [cell_from_contour(cont) for cont in grid_contours]\n",
    "grid_cells = [GridCell(cell_from_contour(cont)) for cont in grid_contours]"
   ]
  },
  {
   "cell_type": "code",
   "execution_count": 1049,
   "metadata": {},
   "outputs": [
    {
     "data": {
      "text/plain": [
       "[, 310, 254, 469, 412,\n",
       " , 485, 428, 469, 411,\n",
       " , 427, 370, 469, 411,\n",
       " , 369, 313, 467, 411,\n",
       " , 253, 196, 469, 411,\n",
       " , 195, 138, 469, 411,\n",
       " , 137, 80, 469, 411,\n",
       " , 79, 22, 469, 411,\n",
       " , 252, 196, 410, 353,\n",
       " , 485, 428, 410, 352,\n",
       " , 427, 370, 410, 352,\n",
       " , 369, 312, 410, 352,\n",
       " , 311, 255, 409, 352,\n",
       " , 195, 138, 410, 352,\n",
       " , 137, 80, 410, 352,\n",
       " , 79, 22, 410, 352,\n",
       " , 194, 138, 351, 295,\n",
       " , 485, 428, 351, 293,\n",
       " , 427, 370, 351, 293,\n",
       " , 369, 312, 351, 293,\n",
       " , 311, 254, 351, 293,\n",
       " , 253, 197, 350, 293,\n",
       " , 485, 428, 292, 234,\n",
       " , 427, 370, 292, 234,\n",
       " , 369, 312, 292, 234,\n",
       " , 311, 254, 292, 234,\n",
       " , 253, 196, 292, 234,\n",
       " , 195, 138, 292, 234]"
      ]
     },
     "execution_count": 1049,
     "metadata": {},
     "output_type": "execute_result"
    }
   ],
   "source": [
    "grid_cells"
   ]
  },
  {
   "cell_type": "markdown",
   "metadata": {},
   "source": [
    "next and previous contours at the same hierarchical level, the first child contour and the parent contour"
   ]
  },
  {
   "cell_type": "code",
   "execution_count": 1052,
   "metadata": {
    "run_control": {
     "frozen": false,
     "read_only": false
    },
    "scrolled": false
   },
   "outputs": [
    {
     "data": {
      "image/png": "[encoded data removed]",
      "text/plain": [
       "<PIL.Image.Image image mode=RGB size=308x175 at 0x10C8DCC88>"
      ]
     },
     "execution_count": 1052,
     "metadata": {},
     "output_type": "execute_result"
    }
   ],
   "source": [
    "draw_detections(image_to_do, bounding_boxes)"
   ]
  },
  {
   "cell_type": "code",
   "execution_count": 1039,
   "metadata": {},
   "outputs": [
    {
     "ename": "TypeError",
     "evalue": "Required argument 'text' (pos 2) not found",
     "output_type": "error",
     "traceback": [
      "\u001b[0;31m---------------------------------------------------------------------------\u001b[0m",
      "\u001b[0;31mTypeError\u001b[0m                                 Traceback (most recent call last)",
      "\u001b[0;32m<ipython-input-1039-c40daeeb298d>\u001b[0m in \u001b[0;36m<module>\u001b[0;34m()\u001b[0m\n\u001b[0;32m----> 1\u001b[0;31m \u001b[0mdraw_detections_w_text\u001b[0m\u001b[0;34m(\u001b[0m\u001b[0mimage_to_do\u001b[0m\u001b[0;34m,\u001b[0m \u001b[0mgrid_cells\u001b[0m\u001b[0;34m)\u001b[0m\u001b[0;34m\u001b[0m\u001b[0m\n\u001b[0m",
      "\u001b[0;32m<ipython-input-1034-9f6997567d70>\u001b[0m in \u001b[0;36mdraw_detections_w_text\u001b[0;34m(img_path, grid_cells)\u001b[0m\n\u001b[1;32m     30\u001b[0m     \u001b[0;32mfor\u001b[0m \u001b[0mcell\u001b[0m \u001b[0;32min\u001b[0m \u001b[0mgrid_cells\u001b[0m\u001b[0;34m:\u001b[0m\u001b[0;34m\u001b[0m\u001b[0m\n\u001b[1;32m     31\u001b[0m         \u001b[0mcv2\u001b[0m\u001b[0;34m.\u001b[0m\u001b[0mrectangle\u001b[0m\u001b[0;34m(\u001b[0m\u001b[0mimage\u001b[0m\u001b[0;34m,\u001b[0m \u001b[0;34m(\u001b[0m\u001b[0mcell\u001b[0m\u001b[0;34m.\u001b[0m\u001b[0ml_x\u001b[0m\u001b[0;34m(\u001b[0m\u001b[0;34m)\u001b[0m\u001b[0;34m,\u001b[0m \u001b[0mcell\u001b[0m\u001b[0;34m.\u001b[0m\u001b[0ml_y\u001b[0m\u001b[0;34m(\u001b[0m\u001b[0;34m)\u001b[0m\u001b[0;34m)\u001b[0m\u001b[0;34m,\u001b[0m \u001b[0;34m(\u001b[0m\u001b[0mcell\u001b[0m\u001b[0;34m.\u001b[0m\u001b[0mu_x\u001b[0m\u001b[0;34m(\u001b[0m\u001b[0;34m)\u001b[0m\u001b[0;34m,\u001b[0m \u001b[0mcell\u001b[0m\u001b[0;34m.\u001b[0m\u001b[0mu_y\u001b[0m\u001b[0;34m(\u001b[0m\u001b[0;34m)\u001b[0m\u001b[0;34m)\u001b[0m\u001b[0;34m,\u001b[0m \u001b[0mcolor\u001b[0m\u001b[0;34m=\u001b[0m\u001b[0mrandom_color\u001b[0m\u001b[0;34m(\u001b[0m\u001b[0;34m)\u001b[0m\u001b[0;34m,\u001b[0m \u001b[0mthickness\u001b[0m\u001b[0;34m=\u001b[0m\u001b[0;36m2\u001b[0m\u001b[0;34m)\u001b[0m\u001b[0;34m\u001b[0m\u001b[0m\n\u001b[0;32m---> 32\u001b[0;31m         \u001b[0mcv2\u001b[0m\u001b[0;34m.\u001b[0m\u001b[0mputText\u001b[0m\u001b[0;34m(\u001b[0m\u001b[0mcell\u001b[0m\u001b[0;34m.\u001b[0m\u001b[0mtext\u001b[0m\u001b[0;34m(\u001b[0m\u001b[0;34m)\u001b[0m\u001b[0;34m)\u001b[0m\u001b[0;34m\u001b[0m\u001b[0m\n\u001b[0m\u001b[1;32m     33\u001b[0m         \u001b[0mcolor_counter\u001b[0m \u001b[0;34m+=\u001b[0m \u001b[0;36m1\u001b[0m\u001b[0;34m\u001b[0m\u001b[0m\n\u001b[1;32m     34\u001b[0m     \u001b[0;32mreturn\u001b[0m \u001b[0mImage\u001b[0m\u001b[0;34m.\u001b[0m\u001b[0mfromarray\u001b[0m\u001b[0;34m(\u001b[0m\u001b[0mimage\u001b[0m\u001b[0;34m)\u001b[0m\u001b[0;34m\u001b[0m\u001b[0m\n",
      "\u001b[0;31mTypeError\u001b[0m: Required argument 'text' (pos 2) not found"
     ]
    }
   ],
   "source": []
  },
  {
   "cell_type": "code",
   "execution_count": 726,
   "metadata": {},
   "outputs": [
    {
     "data": {
      "image/png": "[encoded data removed]",
      "text/plain": [
       "<PIL.Image.Image image mode=RGB size=490x352 at 0x10C8D30B8>"
      ]
     },
     "execution_count": 726,
     "metadata": {},
     "output_type": "execute_result"
    }
   ],
   "source": [
    "ifa(test_img)"
   ]
  },
  {
   "cell_type": "code",
   "execution_count": 727,
   "metadata": {},
   "outputs": [
    {
     "data": {
      "image/png": "[encoded data removed]",
      "text/plain": [
       "<PIL.Image.Image image mode=L size=490x352 at 0x10C8D3EB8>"
      ]
     },
     "execution_count": 727,
     "metadata": {},
     "output_type": "execute_result"
    }
   ],
   "source": [
    "ifa(foreground_img)"
   ]
  },
  {
   "cell_type": "code",
   "execution_count": 728,
   "metadata": {
    "run_control": {
     "frozen": false,
     "read_only": false
    }
   },
   "outputs": [
    {
     "data": {
      "image/png": "[encoded data removed]",
      "text/plain": [
       "<PIL.Image.Image image mode=L size=490x352 at 0x1225ADE48>"
      ]
     },
     "execution_count": 728,
     "metadata": {},
     "output_type": "execute_result"
    }
   ],
   "source": [
    "ifa(candidate_grid)"
   ]
  },
  {
   "cell_type": "code",
   "execution_count": 729,
   "metadata": {
    "run_control": {
     "frozen": false,
     "read_only": false
    }
   },
   "outputs": [
    {
     "data": {
      "image/png": "[encoded data removed]",
      "text/plain": [
       "<matplotlib.figure.Figure at 0x1225add30>"
      ]
     },
     "metadata": {},
     "output_type": "display_data"
    }
   ],
   "source": [
    "ifb(connected_components)"
   ]
  },
  {
   "cell_type": "markdown",
   "metadata": {},
   "source": [
    "# match to OCR"
   ]
  },
  {
   "cell_type": "code",
   "execution_count": 1051,
   "metadata": {
    "run_control": {
     "frozen": false,
     "read_only": false
    }
   },
   "outputs": [
    {
     "data": {
      "image/png": "[encoded data removed]",
      "text/plain": [
       "<PIL.Image.Image image mode=RGB size=308x175 at 0x124400908>"
      ]
     },
     "execution_count": 1051,
     "metadata": {},
     "output_type": "execute_result"
    }
   ],
   "source": [
    "image_to_do = test_images[97]\n",
    "\n",
    "test_img = cv2.imread(image_to_do)\n",
    "image_name = os.path.split(image_to_do)[-1]\n",
    "\n",
    "foreground_img = foreground_image(test_img)\n",
    "connected_components = connect_and_label_components(foreground_img)\n",
    "candidate_grid = find_largest_component(connected_components)\n",
    "grid_contours = compute_grid_contours(candidate_grid)\n",
    "\n",
    "bounding_boxes = [cell_from_contour(cont) for cont in grid_contours]\n",
    "draw_detections(image_to_do, bounding_boxes)"
   ]
  },
  {
   "cell_type": "code",
   "execution_count": 799,
   "metadata": {
    "run_control": {
     "frozen": false,
     "read_only": false
    }
   },
   "outputs": [
    {
     "data": {
      "image/png": "[encoded data removed]",
      "text/plain": [
       "<PIL.Image.Image image mode=L size=308x175 at 0x11AEA0CC0>"
      ]
     },
     "execution_count": 799,
     "metadata": {},
     "output_type": "execute_result"
    }
   ],
   "source": [
    "ifa(candidate_grid)"
   ]
  },
  {
   "cell_type": "code",
   "execution_count": 800,
   "metadata": {},
   "outputs": [],
   "source": [
    "test_ocr_img =cv2.cvtColor(test_img, cv2.COLOR_BGR2GRAY) + candidate_grid"
   ]
  },
  {
   "cell_type": "code",
   "execution_count": 801,
   "metadata": {},
   "outputs": [
    {
     "data": {
      "image/png": "[encoded data removed]",
      "text/plain": [
       "<PIL.Image.Image image mode=L size=308x175 at 0x10C8E42E8>"
      ]
     },
     "execution_count": 801,
     "metadata": {},
     "output_type": "execute_result"
    }
   ],
   "source": [
    "ifa(test_ocr_img)"
   ]
  },
  {
   "cell_type": "code",
   "execution_count": 802,
   "metadata": {},
   "outputs": [],
   "source": [
    "img_buffer = BytesIO()"
   ]
  },
  {
   "cell_type": "code",
   "execution_count": 803,
   "metadata": {
    "collapsed": true
   },
   "outputs": [],
   "source": [
    "ifa(test_ocr_img).save(img_buffer, format=\"PNG\")\n",
    "img_str = base64.b64encode(img_buffer.getvalue())"
   ]
  },
  {
   "cell_type": "code",
   "execution_count": 804,
   "metadata": {
    "collapsed": true
   },
   "outputs": [],
   "source": [
    "img_str = base64.b64encode(cv2.imencode('.png', test_ocr_img)[1].tostring())"
   ]
  },
  {
   "cell_type": "code",
   "execution_count": 805,
   "metadata": {},
   "outputs": [],
   "source": [
    "import base64\n",
    "from io import BytesIO\n",
    "import requests"
   ]
  },
  {
   "cell_type": "code",
   "execution_count": 806,
   "metadata": {},
   "outputs": [
    {
     "name": "stdout",
     "output_type": "stream",
     "text": [
      "OK\n"
     ]
    }
   ],
   "source": [
    "api_entry_point = 'http://vision-ocr.dev.allenai.org/v1/ocr'\n",
    "b64_encoded_image = base64.b64encode(test_ocr_img.tostring())\n",
    "header = {'Content-Type': 'application/json'}\n",
    "request_data = {\n",
    "    'image': img_str.decode('utf-8'),\n",
    "    'mergeBoxes': False,\n",
    "    'includeMergedComponents': True\n",
    "}\n",
    "\n",
    "json_data = json.dumps(request_data)\n",
    "response = requests.post(api_entry_point, data=json_data, headers=header)\n",
    "print(response.reason)\n",
    "json_response = json.loads(response.content.decode())"
   ]
  },
  {
   "cell_type": "code",
   "execution_count": 807,
   "metadata": {
    "collapsed": true
   },
   "outputs": [],
   "source": [
    "def query_vision_ocr(image_url, merge_boxes=False, include_merged_components=False, as_json=True):\n",
    "    b64_encoded_image = base64.b64encode(test_ocr_img)\n",
    "    api_entry_point = 'http://vision-ocr.dev.allenai.org/v1/ocr'\n",
    "    b64_encoded_image = base64.b64encode(test_ocr_img)\n",
    "\n",
    "    header = {'Content-Type': 'application/json'}\n",
    "    request_data = {\n",
    "        'image': base_64_img,\n",
    "        'mergeBoxes': merge_boxes,\n",
    "        'includeMergedComponents': include_merged_components\n",
    "    }\n",
    "\n",
    "    json_data = json.dumps(request_data)\n",
    "    response = requests.post(api_entry_point, data=json_data, headers=header)\n",
    "    print(response.reason)\n",
    "    json_response = json.loads(response.content.decode())\n",
    "    if as_json:\n",
    "        response = json_response\n",
    "    return response"
   ]
  },
  {
   "cell_type": "code",
   "execution_count": 1031,
   "metadata": {},
   "outputs": [],
   "source": [
    "class Box(object):\n",
    "    \n",
    "    def __init__(self):\n",
    "        self.upper_x = 0\n",
    "        self.lower_x = 0\n",
    "        self.upper_y = 0\n",
    "        self.lower_y = 0\n",
    "        self.ocr = None\n",
    "            \n",
    "    def __repr__(self):\n",
    "        return ', '.join(map(str, [self.ocr, self.u_x(), self.l_x(), self.u_y(), self.l_y()]))\n",
    "        \n",
    "    def u_x(self):\n",
    "        return self.upper_x\n",
    "    \n",
    "    def l_x(self):\n",
    "        return self.lower_x\n",
    "    \n",
    "    def u_y(self):\n",
    "        return self.upper_y\n",
    "    \n",
    "    def l_y(self):\n",
    "        return self.lower_y\n",
    "    \n",
    "    def area(self):\n",
    "        return (self.u_x() - self.l_x()) * (self.u_y() - self.l_y())\n",
    "    \n",
    "    def text(self):\n",
    "        return self.ocr\n",
    "    \n",
    "    \n",
    "class OcrBox(Box):\n",
    "    \n",
    "    def __init__(self, detection):\n",
    "        rect = detection['rectangle']\n",
    "        self.upper_x = rect[1]['x']\n",
    "        self.lower_x = rect[0]['x']\n",
    "        self.upper_y = rect[1]['y']\n",
    "        self.lower_y = rect[0]['y']\n",
    "        self.ocr = detection['value']\n",
    "        \n",
    "\n",
    "        \n",
    "class GridCell(Box):\n",
    "    \n",
    "    def __init__(self, coords):\n",
    "        self.upper_x = coords[1][0]\n",
    "        self.lower_x = coords[0][0]\n",
    "        self.upper_y = coords[1][1]\n",
    "        self.lower_y = coords[0][1]\n",
    "        self.ocr = \"\"\n",
    "        \n",
    "    def assign_detection(self, ocr):\n",
    "        self.ocr = ocr"
   ]
  },
  {
   "cell_type": "code",
   "execution_count": 1026,
   "metadata": {},
   "outputs": [
    {
     "data": {
      "text/plain": [
       "[((123, 144), (298, 166)),\n",
       " ((13, 144), (123, 166)),\n",
       " ((123, 122), (298, 144)),\n",
       " ((13, 122), (123, 144)),\n",
       " ((123, 100), (298, 122)),\n",
       " ((13, 100), (123, 122)),\n",
       " ((123, 78), (298, 100)),\n",
       " ((13, 78), (123, 100)),\n",
       " ((123, 56), (298, 78)),\n",
       " ((13, 56), (123, 78)),\n",
       " ((123, 34), (298, 56)),\n",
       " ((13, 34), (123, 56))]"
      ]
     },
     "execution_count": 1026,
     "metadata": {},
     "output_type": "execute_result"
    }
   ],
   "source": [
    "bounding_boxes"
   ]
  },
  {
   "cell_type": "code",
   "execution_count": 1027,
   "metadata": {},
   "outputs": [],
   "source": [
    "def boxes_overlap(detected_box, grid_box, thresh=0.9):\n",
    "    dx = min(detected_box.u_x(), grid_box.u_x()) - max(detected_box.l_x(), grid_box.l_x())\n",
    "    dy = min(detected_box.u_y(), grid_box.u_y()) - max(detected_box.l_y(), grid_box.l_y())\n",
    "    if (dx > 0) and (dy > 0):\n",
    "        intersection_area = dx * dy\n",
    "        return float(intersection_area) / min(detected_box.area(), grid_box.area()) > thresh\n",
    "    else:\n",
    "        return False\n",
    "    \n",
    "    \n",
    "def assign_ocr_to_cells(detected_boxes, grid_boxes, thresh=0.5):\n",
    "    for db in detected_boxes:\n",
    "        for gb in grid_boxes:\n",
    "            if boxes_overlap(db, gb, thresh):\n",
    "                gb.assign_detection(db.text())\n",
    "    return "
   ]
  },
  {
   "cell_type": "code",
   "execution_count": 1102,
   "metadata": {},
   "outputs": [],
   "source": [
    "def draw_detections_w_text(img_path, grid_cells):    \n",
    "    image = cv2.imread(img_path)\n",
    "    color_counter = 0\n",
    "    for cell in grid_cells:\n",
    "        cv2.rectangle(image, (cell.l_x(), cell.l_y()), (cell.u_x(), cell.u_y()), color=random_color(), thickness=2)\n",
    "        cv2.putText(image, cell.text(), (cell.l_x(), cell.u_y()), cv2.FONT_HERSHEY_PLAIN, 0.8, (0,0,255), 2)\n",
    "        color_counter += 1\n",
    "    return Image.fromarray(image)"
   ]
  },
  {
   "cell_type": "code",
   "execution_count": 1094,
   "metadata": {},
   "outputs": [],
   "source": [
    "ocr_detections = [OcrBox(det) for det in json_response['detections']]"
   ]
  },
  {
   "cell_type": "code",
   "execution_count": 1095,
   "metadata": {},
   "outputs": [],
   "source": [
    "grid_cells = [GridCell(cell) for cell in bounding_boxes]"
   ]
  },
  {
   "cell_type": "code",
   "execution_count": 1096,
   "metadata": {},
   "outputs": [],
   "source": [
    "matches = assign_ocr_to_cells(ocr_detections, grid_cells)"
   ]
  },
  {
   "cell_type": "code",
   "execution_count": 1097,
   "metadata": {},
   "outputs": [],
   "source": [
    "matches"
   ]
  },
  {
   "cell_type": "code",
   "execution_count": 1098,
   "metadata": {},
   "outputs": [
    {
     "data": {
      "text/plain": [
       "[Data Table, 195, 118, 26, 13,\n",
       " Day, 84, 54, 53, 37,\n",
       " Air Temperature (OF), 287, 134, 53, 37,\n",
       " Monday, 78, 21, 76, 56,\n",
       " 57, 220, 202, 72, 60,\n",
       " Tuesday, 81, 21, 99, 81,\n",
       " 52, 220, 202, 96, 82,\n",
       " Wednesday, 105, 21, 120, 104,\n",
       " 58, 220, 201, 118, 104,\n",
       " Thursday, 87, 21, 142, 125,\n",
       " 71, 218, 201, 140, 126,\n",
       " Friday, 65, 22, 165, 146,\n",
       " 75, 221, 202, 162, 147]"
      ]
     },
     "execution_count": 1098,
     "metadata": {},
     "output_type": "execute_result"
    }
   ],
   "source": [
    "ocr_detections"
   ]
  },
  {
   "cell_type": "code",
   "execution_count": 1103,
   "metadata": {},
   "outputs": [
    {
     "data": {
      "image/png": "[encoded data removed]",
      "text/plain": [
       "<PIL.Image.Image image mode=RGB size=308x175 at 0x1243FA6D8>"
      ]
     },
     "execution_count": 1103,
     "metadata": {},
     "output_type": "execute_result"
    }
   ],
   "source": [
    "draw_detections_w_text(image_to_do, grid_cells)"
   ]
  },
  {
   "cell_type": "code",
   "execution_count": null,
   "metadata": {
    "collapsed": true
   },
   "outputs": [],
   "source": []
  },
  {
   "cell_type": "markdown",
   "metadata": {},
   "source": [
    "# Conclusions"
   ]
  },
  {
   "cell_type": "markdown",
   "metadata": {},
   "source": []
  },
  {
   "cell_type": "markdown",
   "metadata": {},
   "source": [
    "## Key findings"
   ]
  },
  {
   "cell_type": "markdown",
   "metadata": {},
   "source": [
    "* Key finding 1"
   ]
  },
  {
   "cell_type": "markdown",
   "metadata": {},
   "source": [
    "## Next steps"
   ]
  },
  {
   "cell_type": "markdown",
   "metadata": {},
   "source": [
    "* Next steps 1"
   ]
  }
 ],
 "metadata": {
  "kernelspec": {
   "display_name": "Python 3",
   "language": "python",
   "name": "python3"
  },
  "language_info": {
   "codemirror_mode": {
    "name": "ipython",
    "version": 3
   },
   "file_extension": ".py",
   "mimetype": "text/x-python",
   "name": "python",
   "nbconvert_exporter": "python",
   "pygments_lexer": "ipython3",
   "version": "3.6.1"
  },
  "nav_menu": {},
  "toc": {
   "navigate_menu": true,
   "number_sections": true,
   "sideBar": true,
   "threshold": 6,
   "toc_cell": true,
   "toc_section_display": "block",
   "toc_window_display": true
  }
 },
 "nbformat": 4,
 "nbformat_minor": 1
}
