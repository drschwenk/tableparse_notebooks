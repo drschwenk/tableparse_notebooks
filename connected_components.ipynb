{
 "cells": [
  {
   "cell_type": "markdown",
   "metadata": {},
   "source": [
    "# Table of Contents\n",
    "* [Introduction](#Introduction)\n",
    "\t* [Guiding questions](#Guiding-questions)\n",
    "\t* [Related notebooks](#Related-notebooks)\n",
    "* [Setup](#Setup)\n",
    "\t* [Imports](#Imports)\n",
    "\t* [Load data](#Load-data)\n",
    "\t* [code](#code)\n",
    "\t* [load](#load)\n",
    "* [Analysis](#Analysis)\n",
    "\t* [code](#code)\n",
    "\t* [run](#run)\n",
    "* [Conclusions](#Conclusions)\n",
    "\t* [Key findings](#Key-findings)\n",
    "\t* [Next steps](#Next-steps)\n"
   ]
  },
  {
   "cell_type": "markdown",
   "metadata": {},
   "source": [
    "# Introduction"
   ]
  },
  {
   "cell_type": "markdown",
   "metadata": {},
   "source": [
    "## Guiding questions"
   ]
  },
  {
   "cell_type": "markdown",
   "metadata": {},
   "source": [
    "* Guiding question:\n",
    "Can I improve grid extraction by finding largest component first, then extracting contours"
   ]
  },
  {
   "cell_type": "markdown",
   "metadata": {},
   "source": [
    "## Related notebooks"
   ]
  },
  {
   "cell_type": "markdown",
   "metadata": {},
   "source": [
    "* **Related notebooks:**  early_table_parse_experiment.ipynb"
   ]
  },
  {
   "cell_type": "markdown",
   "metadata": {
    "heading_collapsed": true,
    "slideshow": {
     "slide_type": "-"
    }
   },
   "source": [
    "# Setup"
   ]
  },
  {
   "cell_type": "markdown",
   "metadata": {
    "hidden": true
   },
   "source": [
    "## Imports"
   ]
  },
  {
   "cell_type": "code",
   "execution_count": 1,
   "metadata": {
    "collapsed": true,
    "hidden": true,
    "run_control": {
     "frozen": false,
     "read_only": false
    }
   },
   "outputs": [],
   "source": [
    "%%capture\n",
    "from __future__ import division\n",
    "import numpy as np\n",
    "import pandas as pd\n",
    "import scipy.stats as st\n",
    "import itertools\n",
    "import math\n",
    "import hashlib\n",
    "from collections import Counter, defaultdict\n",
    "%load_ext autoreload\n",
    "%autoreload 2"
   ]
  },
  {
   "cell_type": "code",
   "execution_count": 2,
   "metadata": {
    "collapsed": true,
    "hidden": true,
    "run_control": {
     "frozen": false,
     "read_only": false
    }
   },
   "outputs": [],
   "source": [
    "%%capture\n",
    "import matplotlib as mpl\n",
    "import matplotlib.pylab as plt\n",
    "%matplotlib inline\n",
    "%load_ext base16_mplrc\n",
    "%base16_mplrc light solarized\n",
    "plt.rcParams['grid.linewidth'] = 0\n",
    "plt.rcParams['figure.figsize'] = (16.0, 10.0)"
   ]
  },
  {
   "cell_type": "code",
   "execution_count": 3,
   "metadata": {
    "collapsed": true,
    "hidden": true,
    "run_control": {
     "frozen": false,
     "read_only": false
    }
   },
   "outputs": [],
   "source": [
    "import os\n",
    "import cv2\n",
    "\n",
    "import PIL.Image as Image\n",
    "import skimage.filters\n",
    "\n",
    "from urllib.request import url2pathname"
   ]
  },
  {
   "cell_type": "code",
   "execution_count": 4,
   "metadata": {
    "ExecuteTime": {
     "end_time": "2016-07-19T17:16:45.420136",
     "start_time": "2016-07-19T17:16:45.404054"
    },
    "hidden": true,
    "run_control": {
     "frozen": false,
     "read_only": false
    }
   },
   "outputs": [
    {
     "data": {
      "application/json": {
       "Software versions": [
        {
         "module": "Python",
         "version": "3.6.1 64bit [GCC 4.2.1 Compatible Apple LLVM 8.0.0 (clang-800.0.42.1)]"
        },
        {
         "module": "IPython",
         "version": "6.0.0"
        },
        {
         "module": "OS",
         "version": "Darwin 16.6.0 x86_64 i386 64bit"
        },
        {
         "module": "numpy",
         "version": "1.12.1"
        },
        {
         "module": "matplotlib",
         "version": "2.0.2"
        },
        {
         "module": "pandas",
         "version": "0.20.1"
        },
        {
         "module": "scipy",
         "version": "0.19.0"
        },
        {
         "module": "cv2",
         "version": "3.2.0"
        },
        {
         "module": "skimage",
         "version": "0.13.0"
        },
        {
         "module": "PIL",
         "version": "4.1.1"
        }
       ]
      },
      "text/html": [
       "<table><tr><th>Software</th><th>Version</th></tr><tr><td>Python</td><td>3.6.1 64bit [GCC 4.2.1 Compatible Apple LLVM 8.0.0 (clang-800.0.42.1)]</td></tr><tr><td>IPython</td><td>6.0.0</td></tr><tr><td>OS</td><td>Darwin 16.6.0 x86_64 i386 64bit</td></tr><tr><td>numpy</td><td>1.12.1</td></tr><tr><td>matplotlib</td><td>2.0.2</td></tr><tr><td>pandas</td><td>0.20.1</td></tr><tr><td>scipy</td><td>0.19.0</td></tr><tr><td>cv2</td><td>3.2.0</td></tr><tr><td>skimage</td><td>0.13.0</td></tr><tr><td>PIL</td><td>4.1.1</td></tr><tr><td colspan='2'>Fri Jun 02 16:59:21 2017 PDT</td></tr></table>"
      ],
      "text/latex": [
       "\\begin{tabular}{|l|l|}\\hline\n",
       "{\\bf Software} & {\\bf Version} \\\\ \\hline\\hline\n",
       "Python & 3.6.1 64bit [GCC 4.2.1 Compatible Apple LLVM 8.0.0 (clang-800.0.42.1)] \\\\ \\hline\n",
       "IPython & 6.0.0 \\\\ \\hline\n",
       "OS & Darwin 16.6.0 x86\\_64 i386 64bit \\\\ \\hline\n",
       "numpy & 1.12.1 \\\\ \\hline\n",
       "matplotlib & 2.0.2 \\\\ \\hline\n",
       "pandas & 0.20.1 \\\\ \\hline\n",
       "scipy & 0.19.0 \\\\ \\hline\n",
       "cv2 & 3.2.0 \\\\ \\hline\n",
       "skimage & 0.13.0 \\\\ \\hline\n",
       "PIL & 4.1.1 \\\\ \\hline\n",
       "\\hline \\multicolumn{2}{|l|}{Fri Jun 02 16:59:21 2017 PDT} \\\\ \\hline\n",
       "\\end{tabular}\n"
      ],
      "text/plain": [
       "Software versions\n",
       "Python 3.6.1 64bit [GCC 4.2.1 Compatible Apple LLVM 8.0.0 (clang-800.0.42.1)]\n",
       "IPython 6.0.0\n",
       "OS Darwin 16.6.0 x86_64 i386 64bit\n",
       "numpy 1.12.1\n",
       "matplotlib 2.0.2\n",
       "pandas 0.20.1\n",
       "scipy 0.19.0\n",
       "cv2 3.2.0\n",
       "skimage 0.13.0\n",
       "PIL 4.1.1\n",
       "Fri Jun 02 16:59:21 2017 PDT"
      ]
     },
     "execution_count": 4,
     "metadata": {},
     "output_type": "execute_result"
    }
   ],
   "source": [
    "%load_ext version_information\n",
    "%reload_ext version_information\n",
    "%version_information numpy, matplotlib, pandas, scipy, cv2, skimage, PIL"
   ]
  },
  {
   "cell_type": "markdown",
   "metadata": {
    "heading_collapsed": true,
    "hidden": true
   },
   "source": [
    "## Load data "
   ]
  },
  {
   "cell_type": "markdown",
   "metadata": {
    "hidden": true
   },
   "source": [
    "* **File:**  various image files\n",
    "* **Description of data:** various image files"
   ]
  },
  {
   "cell_type": "markdown",
   "metadata": {
    "heading_collapsed": true,
    "hidden": true
   },
   "source": [
    "## code"
   ]
  },
  {
   "cell_type": "code",
   "execution_count": 31,
   "metadata": {
    "collapsed": true,
    "hidden": true,
    "run_control": {
     "frozen": false,
     "read_only": false
    }
   },
   "outputs": [],
   "source": [
    "# def compute_data_hash(data_path):\n",
    "#     with open(data_path, 'rb') as f:\n",
    "#         md5_hash = hashlib.md5(f.read()).hexdigest()\n",
    "#         print(data_path, md5_hash)\n",
    "#     return md5_hash\n",
    "\n",
    "# def compute_and_write_hashes(data_files, json_filename):\n",
    "#     data_hashes = {dfp: compute_data_hash(dfp) for dfp in data_files}\n",
    "#     output_dir = 'data_hashes'\n",
    "#     try:\n",
    "#         os.mkdir(output_dir)\n",
    "#     except FileExistsError:\n",
    "#         pass\n",
    "    \n",
    "#     with open(os.path.join(output_dir, json_filename), 'w') as f:\n",
    "#         json.dump(data_hashes, f)\n",
    "\n",
    "# %%javascript\n",
    "# var kernel = IPython.notebook.kernel;\n",
    "# var window_name = window.location.href;\n",
    "# var command = \"notebook_url = \\\"\" + escape(window_name) + \"\\\"\"\n",
    "# kernel.execute(command);\n",
    "\n",
    "# nb_filename = url2pathname(notebook_url).split('/')[-1]\n",
    "# if nb_filename.endswith('#'):\n",
    "#     nb_filename = nb_filename[:-1]\n",
    "# json_filename = nb_filename.replace('ipynb', 'json')\n",
    "\n",
    "# compute_and_write_hashes(data_file_paths, json_filename)\n",
    "# print('on date:')\n",
    "# !date"
   ]
  },
  {
   "cell_type": "markdown",
   "metadata": {
    "hidden": true
   },
   "source": [
    "## load"
   ]
  },
  {
   "cell_type": "markdown",
   "metadata": {},
   "source": [
    "# Analysis"
   ]
  },
  {
   "cell_type": "markdown",
   "metadata": {},
   "source": [
    "## code"
   ]
  },
  {
   "cell_type": "code",
   "execution_count": 5,
   "metadata": {
    "code_folding": [],
    "collapsed": true,
    "run_control": {
     "frozen": false,
     "read_only": false
    }
   },
   "outputs": [],
   "source": [
    "def ifa(img_arr):\n",
    "    return Image.fromarray(img_arr)\n",
    "\n",
    "\n",
    "def ifb(blobs):\n",
    "    plt.imshow(blobs, cmap='nipy_spectral')\n",
    "    _ = plt.axis('off')\n",
    "\n",
    "    \n",
    "def random_color():\n",
    "    import random\n",
    "    return random.randint(0, 255), random.randint(0, 255), random.randint(0, 255)\n",
    "\n",
    "\n",
    "def draw_detections(img_path, found_cells):    \n",
    "    image = cv2.imread(img_path)\n",
    "    color_counter = 0\n",
    "    for cell in found_cells:\n",
    "        start_x = cell[0][0]\n",
    "        start_y = cell[0][1]\n",
    "        end_x = cell[1][0]\n",
    "        end_y = cell[1][1]\n",
    "        cv2.rectangle(image, (start_x, start_y), (end_x, end_y), color=random_color(), thickness=2)\n",
    "        color_counter += 1\n",
    "    return Image.fromarray(image)"
   ]
  },
  {
   "cell_type": "code",
   "execution_count": 6,
   "metadata": {
    "collapsed": true,
    "run_control": {
     "frozen": false,
     "read_only": false
    }
   },
   "outputs": [],
   "source": [
    "def convert_binary_image(binary_image):\n",
    "    image = binary_image.astype('uint8') * np.ones_like(binary_image) * 255\n",
    "    return image\n",
    "\n",
    "\n",
    "def foreground_image(img):\n",
    "    gray = cv2.cvtColor(img, cv2.COLOR_BGR2GRAY)\n",
    "    thresh_val = skimage.filters.threshold_mean(gray)\n",
    "    foreground = gray < thresh_val\n",
    "    return convert_binary_image(foreground)\n",
    "\n",
    "\n",
    "def connect_and_label_components(foreground_img, n=100, l=256):\n",
    "    img = skimage.filters.gaussian(foreground_img, sigma=l / (4. * n))\n",
    "    blobs = img > img.mean()\n",
    "    labeled_image_components = skimage.measure.label(blobs)\n",
    "    return labeled_image_components\n",
    "\n",
    "\n",
    "def find_largest_component(labeled_components):\n",
    "    regions = skimage.measure.regionprops(labeled_components)\n",
    "    regions_by_area = sorted(regions, key=lambda x: x.convex_area, reverse=True)\n",
    "    largest_region = regions_by_area[0]\n",
    "    return convert_binary_image(labeled_components == largest_region.label)\n",
    "\n",
    "\n",
    "def cell_from_contour(contour):\n",
    "    cont = contour.reshape((contour.shape[0], 2))\n",
    "    bounding_box = (cont[:,:1].min(), cont[:,1:].min()) , (cont[:,:1].max(), cont[:,1:].max())\n",
    "    return bounding_box\n",
    "\n",
    "\n",
    "def compute_grid_contours(assumed_grid_mask):\n",
    "    converted_mask =  assumed_grid_mask * np.ones_like(assumed_grid_mask) * 255\n",
    "    _, contours, hierarchy = cv2.findContours(converted_mask.astype(np.uint8), cv2.RETR_TREE, cv2.CHAIN_APPROX_SIMPLE)\n",
    "    \n",
    "    hierarchy = hierarchy.reshape(hierarchy.shape[1:])\n",
    "    child_idxs = hierarchy[:,-1] == 0\n",
    "    \n",
    "    return np.array(contours)[child_idxs]"
   ]
  },
  {
   "cell_type": "markdown",
   "metadata": {},
   "source": [
    "## run"
   ]
  },
  {
   "cell_type": "code",
   "execution_count": 7,
   "metadata": {
    "collapsed": true,
    "run_control": {
     "frozen": false,
     "read_only": false
    }
   },
   "outputs": [],
   "source": [
    "hard_image = '/Users/schwenk/wrk/tableparse/data/tricky_tables/unnamed-3.png'\n",
    "another_image = '/Users/schwenk/wrk/tableparse/data/tricky_tables/unnamed-2.png'\n",
    "easy_image = '/Users/schwenk/wrk/tableparse/vision-tableparse/examples/example_1.png'"
   ]
  },
  {
   "cell_type": "code",
   "execution_count": 8,
   "metadata": {
    "collapsed": true,
    "run_control": {
     "frozen": false,
     "read_only": false
    }
   },
   "outputs": [],
   "source": [
    "test_img = cv2.imread(another_image)\n",
    "\n",
    "foreground_img = foreground_image(test_img)\n",
    "connected_components = connect_and_label_components(foreground_img)\n",
    "candidate_grid = find_largest_component(connected_components)\n",
    "grid_contours = compute_grid_contours(candidate_grid)\n",
    "bounding_boxes = [cell_from_contour(cont) for cont in grid_contours.tolist()]"
   ]
  },
  {
   "cell_type": "code",
   "execution_count": 9,
   "metadata": {
    "run_control": {
     "frozen": false,
     "marked": false,
     "read_only": false
    }
   },
   "outputs": [
    {
     "data": {
      "text/plain": [
       "[((532, 291), (733, 371)),\n",
       " ((125, 291), (529, 371)),\n",
       " ((532, 208), (733, 288)),\n",
       " ((125, 208), (529, 288)),\n",
       " ((11, 208), (122, 371)),\n",
       " ((532, 125), (733, 205)),\n",
       " ((125, 125), (529, 205)),\n",
       " ((532, 41), (733, 122)),\n",
       " ((125, 41), (529, 122)),\n",
       " ((11, 41), (122, 205)),\n",
       " ((532, 12), (733, 38)),\n",
       " ((125, 12), (529, 38)),\n",
       " ((11, 12), (122, 38))]"
      ]
     },
     "execution_count": 9,
     "metadata": {},
     "output_type": "execute_result"
    }
   ],
   "source": [
    "bounding_boxes "
   ]
  },
  {
   "cell_type": "code",
   "execution_count": 10,
   "metadata": {
    "run_control": {
     "frozen": false,
     "read_only": false
    }
   },
   "outputs": [
    {
     "data": {
      "image/png": "[encoded data removed]",
      "text/plain": [
       "<PIL.Image.Image image mode=L size=742x381 at 0x116D53390>"
      ]
     },
     "execution_count": 10,
     "metadata": {},
     "output_type": "execute_result"
    }
   ],
   "source": [
    "ifa(candidate_grid)"
   ]
  },
  {
   "cell_type": "code",
   "execution_count": 11,
   "metadata": {
    "run_control": {
     "frozen": false,
     "read_only": false
    }
   },
   "outputs": [
    {
     "data": {
      "image/png": "[encoded data removed]",
      "text/plain": [
       "<matplotlib.figure.Figure at 0x116d53a90>"
      ]
     },
     "metadata": {},
     "output_type": "display_data"
    }
   ],
   "source": [
    "ifb(connected_components)"
   ]
  },
  {
   "cell_type": "code",
   "execution_count": 12,
   "metadata": {
    "run_control": {
     "frozen": false,
     "read_only": false
    }
   },
   "outputs": [
    {
     "data": {
      "image/png": "[encoded data removed]",
      "text/plain": [
       "<PIL.Image.Image image mode=RGB size=742x381 at 0x11A02ABE0>"
      ]
     },
     "execution_count": 12,
     "metadata": {},
     "output_type": "execute_result"
    }
   ],
   "source": [
    "draw_detections(another_image, bounding_boxes)"
   ]
  },
  {
   "cell_type": "code",
   "execution_count": null,
   "metadata": {
    "collapsed": true,
    "run_control": {
     "frozen": false,
     "read_only": false
    }
   },
   "outputs": [],
   "source": []
  },
  {
   "cell_type": "code",
   "execution_count": null,
   "metadata": {
    "collapsed": true,
    "run_control": {
     "frozen": false,
     "read_only": false
    }
   },
   "outputs": [],
   "source": []
  },
  {
   "cell_type": "code",
   "execution_count": null,
   "metadata": {
    "collapsed": true,
    "run_control": {
     "frozen": false,
     "read_only": false
    }
   },
   "outputs": [],
   "source": []
  },
  {
   "cell_type": "code",
   "execution_count": null,
   "metadata": {
    "collapsed": true,
    "run_control": {
     "frozen": false,
     "read_only": false
    }
   },
   "outputs": [],
   "source": []
  },
  {
   "cell_type": "code",
   "execution_count": null,
   "metadata": {
    "collapsed": true,
    "run_control": {
     "frozen": false,
     "read_only": false
    }
   },
   "outputs": [],
   "source": []
  },
  {
   "cell_type": "markdown",
   "metadata": {},
   "source": [
    "# Conclusions"
   ]
  },
  {
   "cell_type": "markdown",
   "metadata": {},
   "source": []
  },
  {
   "cell_type": "markdown",
   "metadata": {},
   "source": [
    "## Key findings"
   ]
  },
  {
   "cell_type": "markdown",
   "metadata": {},
   "source": [
    "* Key finding 1"
   ]
  },
  {
   "cell_type": "markdown",
   "metadata": {},
   "source": [
    "## Next steps"
   ]
  },
  {
   "cell_type": "markdown",
   "metadata": {},
   "source": [
    "* Next steps 1"
   ]
  }
 ],
 "metadata": {
  "kernelspec": {
   "display_name": "Python 3",
   "language": "python",
   "name": "python3"
  },
  "language_info": {
   "codemirror_mode": {
    "name": "ipython",
    "version": 3
   },
   "file_extension": ".py",
   "mimetype": "text/x-python",
   "name": "python",
   "nbconvert_exporter": "python",
   "pygments_lexer": "ipython3",
   "version": "3.6.1"
  },
  "nav_menu": {},
  "toc": {
   "navigate_menu": true,
   "number_sections": true,
   "sideBar": true,
   "threshold": 6,
   "toc_cell": true,
   "toc_section_display": "block",
   "toc_window_display": true
  }
 },
 "nbformat": 4,
 "nbformat_minor": 1
}
